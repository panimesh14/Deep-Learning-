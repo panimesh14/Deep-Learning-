{
  "nbformat": 4,
  "nbformat_minor": 0,
  "metadata": {
    "colab": {
      "name": "CNN Image Classifcation based Malaria Diagnostic Model on Red Blood Cells Thin-section Images.ipynb",
      "provenance": [],
      "collapsed_sections": [],
      "mount_file_id": "1QdCS2fcGjp7Ydri1budX5QtHYlpRVNlX",
      "authorship_tag": "ABX9TyPU+s99v7sfkuoftK0Q6J4H",
      "include_colab_link": true
    },
    "kernelspec": {
      "name": "python3",
      "display_name": "Python 3"
    },
    "language_info": {
      "name": "python"
    }
  },
  "cells": [
    {
      "cell_type": "markdown",
      "metadata": {
        "id": "view-in-github",
        "colab_type": "text"
      },
      "source": [
        "<a href=\"https://colab.research.google.com/github/panimesh14/Deep-Learning-/blob/main/CNN_Image_Classifcation_based_Malaria_Diagnostic_Model_on_Red_Blood_Cells_Thin_section_Images.ipynb\" target=\"_parent\"><img src=\"https://colab.research.google.com/assets/colab-badge.svg\" alt=\"Open In Colab\"/></a>"
      ]
    },
    {
      "cell_type": "markdown",
      "source": [
        "Malaria Diagnostic model using CNN Image Classification Model on Red Blood Cell Thin Section"
      ],
      "metadata": {
        "id": "FvINnDg-HoVA"
      }
    },
    {
      "cell_type": "markdown",
      "source": [
        "#Uploading, unzipping data file-cell_images.zip"
      ],
      "metadata": {
        "id": "1igm2gZJhr62"
      }
    },
    {
      "cell_type": "code",
      "source": [
        "\n",
        "#change to MyDrive\n",
        "import os\n",
        "zip_path='/content/drive/MyDrive/Cell_malaria_dataset/Copy of cell_images.zip'"
      ],
      "metadata": {
        "id": "lTeBNuW_gA3R"
      },
      "execution_count": 1,
      "outputs": []
    },
    {
      "cell_type": "code",
      "source": [
        "#copy zip file to present directory \n",
        "!cp '{zip_path}' -r '{os.getcwd()}'\n",
        "#unzip zip file\n",
        "!unzip -q 'Copy of cell_images.zip'\n",
        "#chwck contents of directory \n",
        "os.listdir()"
      ],
      "metadata": {
        "id": "KdR-BSfCV-N1",
        "colab": {
          "base_uri": "https://localhost:8080/"
        },
        "outputId": "c2e332b2-2726-46b1-e3ec-60f822d4df20"
      },
      "execution_count": 2,
      "outputs": [
        {
          "output_type": "execute_result",
          "data": {
            "text/plain": [
              "['.config', 'cell_images', 'Copy of cell_images.zip', 'drive', 'sample_data']"
            ]
          },
          "metadata": {},
          "execution_count": 2
        }
      ]
    },
    {
      "cell_type": "code",
      "source": [
        "data_dir=os.getcwd();\n",
        "data_dir=data_dir+'/cell_images'\n",
        "os.listdir(data_dir)\n",
        "#Successfully extracted"
      ],
      "metadata": {
        "id": "36S_0PXjbqSC",
        "colab": {
          "base_uri": "https://localhost:8080/"
        },
        "outputId": "9963e1ce-82a6-4687-ae00-c4d90e2ec1b7"
      },
      "execution_count": 3,
      "outputs": [
        {
          "output_type": "execute_result",
          "data": {
            "text/plain": [
              "['test', 'train']"
            ]
          },
          "metadata": {},
          "execution_count": 3
        }
      ]
    },
    {
      "cell_type": "code",
      "source": [
        "import numpy as np\n",
        "import pandas as pd\n",
        "import matplotlib.pyplot as plt\n",
        "import seaborn as sns\n",
        "from matplotlib.image import imread"
      ],
      "metadata": {
        "id": "z-FnXGoWcN5J"
      },
      "execution_count": 4,
      "outputs": []
    },
    {
      "cell_type": "code",
      "source": [
        "\n",
        "#modifying paths to test and train folders\n",
        "test_path=data_dir+'/test'\n",
        "train_path=data_dir+'/train'"
      ],
      "metadata": {
        "id": "3kr_YIb-cgud"
      },
      "execution_count": 5,
      "outputs": []
    },
    {
      "cell_type": "markdown",
      "source": [
        "DATA EXPLORATION"
      ],
      "metadata": {
        "id": "P4E7shXt-u49"
      }
    },
    {
      "cell_type": "code",
      "source": [
        "#dirwctoriws in test path\n",
        "os.listdir(test_path)"
      ],
      "metadata": {
        "id": "3CecGf-BdYU2",
        "colab": {
          "base_uri": "https://localhost:8080/"
        },
        "outputId": "cd252c34-12f6-404d-a232-4067efeee91b"
      },
      "execution_count": 6,
      "outputs": [
        {
          "output_type": "execute_result",
          "data": {
            "text/plain": [
              "['uninfected', 'parasitized']"
            ]
          },
          "metadata": {},
          "execution_count": 6
        }
      ]
    },
    {
      "cell_type": "code",
      "source": [
        "#folders in train directory\n",
        "os.listdir(train_path)"
      ],
      "metadata": {
        "id": "cQaIUqlrdnzc",
        "colab": {
          "base_uri": "https://localhost:8080/"
        },
        "outputId": "2e88d15c-6e74-415e-95e2-ca0ed4dfe862"
      },
      "execution_count": 7,
      "outputs": [
        {
          "output_type": "execute_result",
          "data": {
            "text/plain": [
              "['uninfected', 'parasitized']"
            ]
          },
          "metadata": {},
          "execution_count": 7
        }
      ]
    },
    {
      "cell_type": "code",
      "source": [
        "#Data Exploration\n",
        "#Peaking into files inside train directory\n",
        "filename_img=os.listdir(train_path+'/parasitized')[0]\n",
        "filename_img\n",
        "#file names visible"
      ],
      "metadata": {
        "id": "VLuWQO1YeCMz",
        "colab": {
          "base_uri": "https://localhost:8080/",
          "height": 35
        },
        "outputId": "1ecd33e8-038b-42fc-fe65-e457e66edc05"
      },
      "execution_count": 8,
      "outputs": [
        {
          "output_type": "execute_result",
          "data": {
            "text/plain": [
              "'C136P97ThinF_IMG_20151005_141946_cell_120.png'"
            ],
            "application/vnd.google.colaboratory.intrinsic+json": {
              "type": "string"
            }
          },
          "metadata": {},
          "execution_count": 8
        }
      ]
    },
    {
      "cell_type": "code",
      "source": [
        "#Peeking into image file\n",
        "para_cell_image=train_path+'/parasitized/'+filename_img;\n",
        "plt.imshow(imread(para_cell_image))\n",
        "#dark pink spot maybe implying disease as compared to the uninfected image"
      ],
      "metadata": {
        "id": "_9jWZgUlhCAg",
        "colab": {
          "base_uri": "https://localhost:8080/",
          "height": 285
        },
        "outputId": "0f7eeb0c-0c07-4a68-dcce-19c3ca70f58e"
      },
      "execution_count": 9,
      "outputs": [
        {
          "output_type": "execute_result",
          "data": {
            "text/plain": [
              "<matplotlib.image.AxesImage at 0x7f6e414e1910>"
            ]
          },
          "metadata": {},
          "execution_count": 9
        },
        {
          "output_type": "display_data",
          "data": {
            "text/plain": [
              "<Figure size 432x288 with 1 Axes>"
            ],
            "image/png": "[encoded data removed]"
          },
          "metadata": {
            "needs_background": "light"
          }
        }
      ]
    },
    {
      "cell_type": "code",
      "source": [
        "imread(para_cell_image).shape"
      ],
      "metadata": {
        "id": "3la0i6WLjOge",
        "colab": {
          "base_uri": "https://localhost:8080/"
        },
        "outputId": "53f3c743-86d3-42f8-ea59-fa0370b0c4a2"
      },
      "execution_count": 10,
      "outputs": [
        {
          "output_type": "execute_result",
          "data": {
            "text/plain": [
              "(106, 97, 3)"
            ]
          },
          "metadata": {},
          "execution_count": 10
        }
      ]
    },
    {
      "cell_type": "code",
      "source": [
        "#peeking into uninfected cell image\n",
        "uninfected_filename_img=os.listdir(train_path+'/uninfected')[0]\n",
        "uninf_cell_image=train_path+'/uninfected/'+uninfected_filename_img;\n",
        "plt.imshow(imread(uninf_cell_image))"
      ],
      "metadata": {
        "id": "iTtPMfUnj8CO",
        "colab": {
          "base_uri": "https://localhost:8080/",
          "height": 286
        },
        "outputId": "df98f7b9-7fbb-48f9-e467-0470528830ca"
      },
      "execution_count": 11,
      "outputs": [
        {
          "output_type": "execute_result",
          "data": {
            "text/plain": [
              "<matplotlib.image.AxesImage at 0x7f6e413cd150>"
            ]
          },
          "metadata": {},
          "execution_count": 11
        },
        {
          "output_type": "display_data",
          "data": {
            "text/plain": [
              "<Figure size 432x288 with 1 Axes>"
            ],
            "image/png": "[encoded data removed]"
          },
          "metadata": {
            "needs_background": "light"
          }
        }
      ]
    },
    {
      "cell_type": "code",
      "source": [
        "#number of infected or parasatized samples of RBCs in Training data\n",
        "len(os.listdir(train_path+'/parasitized/'))"
      ],
      "metadata": {
        "id": "JDQ5sbzakr9r",
        "colab": {
          "base_uri": "https://localhost:8080/"
        },
        "outputId": "b4860153-2f18-4c2b-aa91-2fabc952666c"
      },
      "execution_count": 12,
      "outputs": [
        {
          "output_type": "execute_result",
          "data": {
            "text/plain": [
              "12480"
            ]
          },
          "metadata": {},
          "execution_count": 12
        }
      ]
    },
    {
      "cell_type": "code",
      "source": [
        "#number of uninfected samples of RBCs in Training Data\n",
        "len(os.listdir(train_path+'/uninfected/'))"
      ],
      "metadata": {
        "id": "XzV6ADXpmRtf",
        "colab": {
          "base_uri": "https://localhost:8080/"
        },
        "outputId": "698cf653-d4e0-46c0-df78-b7f46e20eda8"
      },
      "execution_count": 13,
      "outputs": [
        {
          "output_type": "execute_result",
          "data": {
            "text/plain": [
              "12480"
            ]
          },
          "metadata": {},
          "execution_count": 13
        }
      ]
    },
    {
      "cell_type": "code",
      "source": [
        "#number of infected or parasatized samples of RBCs in Testing data\n",
        "len(os.listdir(test_path+'/parasitized/'))"
      ],
      "metadata": {
        "id": "UVzOwOKrmpVy",
        "colab": {
          "base_uri": "https://localhost:8080/"
        },
        "outputId": "9a3f2b98-44dc-4022-bb49-c17321ad94f9"
      },
      "execution_count": 14,
      "outputs": [
        {
          "output_type": "execute_result",
          "data": {
            "text/plain": [
              "1300"
            ]
          },
          "metadata": {},
          "execution_count": 14
        }
      ]
    },
    {
      "cell_type": "code",
      "source": [
        "#number of uninfected samples of RBCs in Testing Data\n",
        "len(os.listdir(test_path+'/uninfected/'))"
      ],
      "metadata": {
        "id": "O4uPZ73Um3dS",
        "colab": {
          "base_uri": "https://localhost:8080/"
        },
        "outputId": "60a2fc6b-d2f9-42a3-ae64-b572618a550f"
      },
      "execution_count": 15,
      "outputs": [
        {
          "output_type": "execute_result",
          "data": {
            "text/plain": [
              "1300"
            ]
          },
          "metadata": {},
          "execution_count": 15
        }
      ]
    },
    {
      "cell_type": "markdown",
      "source": [
        "\n",
        "#####Balanced Dataset as clear from above\n",
        "######1300 test points and 12480 train points for each class"
      ],
      "metadata": {
        "id": "d9OkNgHH-LfC"
      }
    },
    {
      "cell_type": "markdown",
      "source": [
        "DATA PREPARATION"
      ],
      "metadata": {
        "id": "jWs1L2OF-mVd"
      }
    },
    {
      "cell_type": "code",
      "source": [
        "#Finding Average size of all available images for prediction and Image Data Generator\n",
        "dim1=[];\n",
        "dim2=[];\n",
        "for img_filename in os.listdir(test_path+'/uninfected/'):\n",
        "    img=imread(test_path+'/uninfected/'+img_filename);\n",
        "    d1,d2,d3=img.shape;\n",
        "    dim1.append(d1)\n",
        "    dim2.append(d2)"
      ],
      "metadata": {
        "id": "t_TZ-UOIm8V6"
      },
      "execution_count": 16,
      "outputs": []
    },
    {
      "cell_type": "code",
      "source": [
        "sns.jointplot(dim1,dim2)\n",
        "#high variability in dimensions as visible"
      ],
      "metadata": {
        "id": "r3CRhsgtrK2q",
        "colab": {
          "base_uri": "https://localhost:8080/",
          "height": 513
        },
        "outputId": "18688200-9e61-4919-91d7-aaf847b54cee"
      },
      "execution_count": 17,
      "outputs": [
        {
          "output_type": "stream",
          "name": "stderr",
          "text": [
            "/usr/local/lib/python3.7/dist-packages/seaborn/_decorators.py:43: FutureWarning: Pass the following variables as keyword args: x, y. From version 0.12, the only valid positional argument will be `data`, and passing other arguments without an explicit keyword will result in an error or misinterpretation.\n",
            "  FutureWarning\n"
          ]
        },
        {
          "output_type": "execute_result",
          "data": {
            "text/plain": [
              "<seaborn.axisgrid.JointGrid at 0x7f6e41464690>"
            ]
          },
          "metadata": {},
          "execution_count": 17
        },
        {
          "output_type": "display_data",
          "data": {
            "text/plain": [
              "<Figure size 432x432 with 3 Axes>"
            ],
            "image/png": "[encoded data removed]"
          },
          "metadata": {
            "needs_background": "light"
          }
        }
      ]
    },
    {
      "cell_type": "code",
      "source": [
        "\n",
        "#mean dimensions as average for variability \n",
        "mean_dim1=int(np.mean(dim1))\n",
        "mean_dim2=int(np.mean(dim2))"
      ],
      "metadata": {
        "id": "fvFTLwi0rbD5"
      },
      "execution_count": 18,
      "outputs": []
    },
    {
      "cell_type": "code",
      "source": [
        "image_shape=(mean_dim1,mean_dim2,d3)\n",
        "mean_dim1*mean_dim2*d3\n",
        "#huge number of sample points when all data is taken into account,i.e.,50700×(24960+2600)"
      ],
      "metadata": {
        "id": "7NgeY5KOrhDx",
        "colab": {
          "base_uri": "https://localhost:8080/"
        },
        "outputId": "3bea878e-5c19-4bae-80af-05eadfe5d88d"
      },
      "execution_count": 19,
      "outputs": [
        {
          "output_type": "execute_result",
          "data": {
            "text/plain": [
              "50700"
            ]
          },
          "metadata": {},
          "execution_count": 19
        }
      ]
    },
    {
      "cell_type": "code",
      "source": [
        "#Image Data Generator\n",
        "\n",
        "#Given the large number of dimensions and the number of samples, it is better to feed data in batches and so ImageDataGenerator is used\n",
        "#Image Data Generator also augments the samples by rotation in degrees, stretching width and height, rescaling the images, shearing or cutting images,zooming images,flipping images\n",
        "from tensorflow.keras.preprocessing.image import ImageDataGenerator\n",
        "image_generator=ImageDataGenerator(rotation_range=40,\n",
        "                                   width_shift_range=0.1,\n",
        "                                   height_shift_range=0.1,\n",
        "                                   rescale=1,\n",
        "                                   shear_range=0.1,\n",
        "                                   zoom_range=0.1,\n",
        "                                   horizontal_flip=True,\n",
        "                                   fill_mode='nearest')"
      ],
      "metadata": {
        "id": "Q1HXFlkptA85"
      },
      "execution_count": 20,
      "outputs": []
    },
    {
      "cell_type": "code",
      "source": [
        "#Plotting and comparing original and transformed image\n",
        "plt.subplot(1,2,1)\n",
        "plt.imshow(imread(para_cell_image))\n",
        "plt.title('Original Image')\n",
        "plt.subplot(1,2,2)\n",
        "plt.imshow(image_generator.random_transform(imread(para_cell_image))) \n",
        "plt.title('Randomly Transformed Image')\n",
        "#moďified image"
      ],
      "metadata": {
        "id": "fiGfbh8V2vq9",
        "colab": {
          "base_uri": "https://localhost:8080/",
          "height": 247
        },
        "outputId": "a884cde2-01b1-49d4-bacc-6095f3401a2a"
      },
      "execution_count": 21,
      "outputs": [
        {
          "output_type": "execute_result",
          "data": {
            "text/plain": [
              "Text(0.5, 1.0, 'Randomly Transformed Image')"
            ]
          },
          "metadata": {},
          "execution_count": 21
        },
        {
          "output_type": "display_data",
          "data": {
            "text/plain": [
              "<Figure size 432x288 with 2 Axes>"
            ],
            "image/png": "[encoded data removed]"
          },
          "metadata": {
            "needs_background": "light"
          }
        }
      ]
    },
    {
      "cell_type": "code",
      "source": [
        "#flowing all training images into image generator or Image Data Generator \n",
        "image_generator.flow_from_directory(train_path)"
      ],
      "metadata": {
        "id": "pH2bTC9Z3-mV",
        "colab": {
          "base_uri": "https://localhost:8080/"
        },
        "outputId": "39bfec72-4814-4df2-964b-519cefdb91d0"
      },
      "execution_count": 22,
      "outputs": [
        {
          "output_type": "stream",
          "name": "stdout",
          "text": [
            "Found 24958 images belonging to 2 classes.\n"
          ]
        },
        {
          "output_type": "execute_result",
          "data": {
            "text/plain": [
              "<keras.preprocessing.image.DirectoryIterator at 0x7f6ddf2cced0>"
            ]
          },
          "metadata": {},
          "execution_count": 22
        }
      ]
    },
    {
      "cell_type": "code",
      "source": [
        "#flowing all testing images into image data generator\n",
        "image_generator.flow_from_directory(test_path)"
      ],
      "metadata": {
        "id": "KGSdxHYb5pHm",
        "colab": {
          "base_uri": "https://localhost:8080/"
        },
        "outputId": "562ef1c7-5e92-4726-cadf-c5f8e42e61bf"
      },
      "execution_count": 23,
      "outputs": [
        {
          "output_type": "stream",
          "name": "stdout",
          "text": [
            "Found 2600 images belonging to 2 classes.\n"
          ]
        },
        {
          "output_type": "execute_result",
          "data": {
            "text/plain": [
              "<keras.preprocessing.image.DirectoryIterator at 0x7f6ddf217c90>"
            ]
          },
          "metadata": {},
          "execution_count": 23
        }
      ]
    },
    {
      "cell_type": "markdown",
      "source": [
        "MODEL BUILDING"
      ],
      "metadata": {
        "id": "tQ3nYmwx-6AC"
      }
    },
    {
      "cell_type": "code",
      "source": [
        "\n",
        "#Model Building\n",
        "from tensorflow.keras.models import Sequential\n",
        "from tensorflow.keras.layers import Conv2D, MaxPool2D, Flatten, Dense, Dropout\n",
        "cell_model=Sequential()\n",
        "cell_model.add(Conv2D(filters=32,kernel_size=(4,4),input_shape=image_shape,activation='relu'))\n",
        "cell_model.add(MaxPool2D(pool_size=(2,2)))\n",
        "#convolution layer 2\n",
        "cell_model.add(Conv2D(filters=64,kernel_size=(4,4),input_shape=image_shape,activation='relu'))\n",
        "cell_model.add(MaxPool2D(pool_size=(2,2)))\n",
        "#convolution layer 3\n",
        "cell_model.add(Conv2D(filters=128,kernel_size=(4,4),input_shape=image_shape,activation='relu'))\n",
        "cell_model.add(MaxPool2D(pool_size=(2,2)))\n",
        "#convolution layer 4\n",
        "cell_model.add(Conv2D(filters=128,kernel_size=(4,4),input_shape=image_shape,activation='relu'))\n",
        "cell_model.add(MaxPool2D(pool_size=(2,2)))\n",
        "#flatten\n",
        "cell_model.add(Flatten())\n",
        "#MLP\n",
        "cell_model.add(Dense(128,activation='relu'))\n",
        "cell_model.add(Dropout(0.5))\n",
        "cell_model.add(Dense(1,activation='sigmoid'))\n",
        "cell_model.compile(optimizer='adam',loss='binary_crossentropy',metrics=['accuracy'])\n",
        "cell_model.summary()"
      ],
      "metadata": {
        "id": "JCNuhACa53LS",
        "colab": {
          "base_uri": "https://localhost:8080/"
        },
        "outputId": "4c2e0799-bfd3-4ac9-a6ac-850a65b1adc1"
      },
      "execution_count": 24,
      "outputs": [
        {
          "output_type": "stream",
          "name": "stdout",
          "text": [
            "Model: \"sequential\"\n",
            "_________________________________________________________________\n",
            " Layer (type)                Output Shape              Param #   \n",
            "=================================================================\n",
            " conv2d (Conv2D)             (None, 127, 127, 32)      1568      \n",
            "                                                                 \n",
            " max_pooling2d (MaxPooling2D  (None, 63, 63, 32)       0         \n",
            " )                                                               \n",
            "                                                                 \n",
            " conv2d_1 (Conv2D)           (None, 60, 60, 64)        32832     \n",
            "                                                                 \n",
            " max_pooling2d_1 (MaxPooling  (None, 30, 30, 64)       0         \n",
            " 2D)                                                             \n",
            "                                                                 \n",
            " conv2d_2 (Conv2D)           (None, 27, 27, 128)       131200    \n",
            "                                                                 \n",
            " max_pooling2d_2 (MaxPooling  (None, 13, 13, 128)      0         \n",
            " 2D)                                                             \n",
            "                                                                 \n",
            " conv2d_3 (Conv2D)           (None, 10, 10, 128)       262272    \n",
            "                                                                 \n",
            " max_pooling2d_3 (MaxPooling  (None, 5, 5, 128)        0         \n",
            " 2D)                                                             \n",
            "                                                                 \n",
            " flatten (Flatten)           (None, 3200)              0         \n",
            "                                                                 \n",
            " dense (Dense)               (None, 128)               409728    \n",
            "                                                                 \n",
            " dropout (Dropout)           (None, 128)               0         \n",
            "                                                                 \n",
            " dense_1 (Dense)             (None, 1)                 129       \n",
            "                                                                 \n",
            "=================================================================\n",
            "Total params: 837,729\n",
            "Trainable params: 837,729\n",
            "Non-trainable params: 0\n",
            "_________________________________________________________________\n"
          ]
        }
      ]
    },
    {
      "cell_type": "code",
      "source": [
        "#Early stopping \n",
        "from tensorflow.keras.callbacks import EarlyStopping\n",
        "early_stop=EarlyStopping(monitor='val_loss',patience=2)"
      ],
      "metadata": {
        "id": "AzAM93Rt2y2d"
      },
      "execution_count": 25,
      "outputs": []
    },
    {
      "cell_type": "code",
      "source": [
        "batch_size=16;#batch size of images to be feeded"
      ],
      "metadata": {
        "id": "xcgoDz6u4lvW"
      },
      "execution_count": 26,
      "outputs": []
    },
    {
      "cell_type": "code",
      "source": [
        "train_img_generator=image_generator.flow_from_directory(train_path,\n",
        "target_size=image_shape[:2],\n",
        "color_mode='rgb',\n",
        "batch_size=batch_size,\n",
        "class_mode='binary')"
      ],
      "metadata": {
        "id": "mKQbyeiH4D6u",
        "colab": {
          "base_uri": "https://localhost:8080/"
        },
        "outputId": "74a40ac2-955d-4fbf-b87f-fa9296879d1d"
      },
      "execution_count": 27,
      "outputs": [
        {
          "output_type": "stream",
          "name": "stdout",
          "text": [
            "Found 24958 images belonging to 2 classes.\n"
          ]
        }
      ]
    },
    {
      "cell_type": "code",
      "source": [
        "test_img_generator=image_generator.flow_from_directory(test_path,target_size=image_shape[:2],\n",
        "color_mode='rgb',\n",
        "batch_size=batch_size,\n",
        "class_mode='binary',shuffle=False)"
      ],
      "metadata": {
        "id": "DoCGFmtQ4cPB",
        "colab": {
          "base_uri": "https://localhost:8080/"
        },
        "outputId": "14606b32-2419-4e2b-e4b6-b55e38ffdb89"
      },
      "execution_count": 39,
      "outputs": [
        {
          "output_type": "stream",
          "name": "stdout",
          "text": [
            "Found 2600 images belonging to 2 classes.\n"
          ]
        }
      ]
    },
    {
      "cell_type": "code",
      "source": [
        "#class indices to labels\n",
        "train_img_generator.class_indices"
      ],
      "metadata": {
        "id": "0HiIiTFs5qMy",
        "colab": {
          "base_uri": "https://localhost:8080/"
        },
        "outputId": "c6d1419d-4161-4403-ce1d-f01aaafd16dc"
      },
      "execution_count": 50,
      "outputs": [
        {
          "output_type": "execute_result",
          "data": {
            "text/plain": [
              "{'parasitized': 0, 'uninfected': 1}"
            ]
          },
          "metadata": {},
          "execution_count": 50
        }
      ]
    },
    {
      "cell_type": "code",
      "source": [
        ",#Fitting model weights\n",
        "results=cell_model.fit(train_img_generator,epochs=20,validation_data=test_img_generator,callbacks=[early_stop])"
      ],
      "metadata": {
        "id": "_-sd9NDu6HwS",
        "colab": {
          "base_uri": "https://localhost:8080/"
        },
        "outputId": "2a7e6a26-091b-4aeb-8d8a-8eac55e5cc2a"
      },
      "execution_count": 30,
      "outputs": [
        {
          "output_type": "stream",
          "name": "stdout",
          "text": [
            "Epoch 1/20\n",
            "1560/1560 [==============================] - 1278s 819ms/step - loss: 0.3795 - accuracy: 0.8594 - val_loss: 0.2346 - val_accuracy: 0.9231\n",
            "Epoch 2/20\n",
            "1560/1560 [==============================] - 1273s 816ms/step - loss: 0.2379 - accuracy: 0.9261 - val_loss: 0.2260 - val_accuracy: 0.9300\n",
            "Epoch 3/20\n",
            "1560/1560 [==============================] - 1258s 806ms/step - loss: 0.2398 - accuracy: 0.9265 - val_loss: 0.1887 - val_accuracy: 0.9415\n",
            "Epoch 4/20\n",
            "1560/1560 [==============================] - 1288s 825ms/step - loss: 0.2033 - accuracy: 0.9381 - val_loss: 0.2188 - val_accuracy: 0.9296\n",
            "Epoch 5/20\n",
            "1560/1560 [==============================] - 1335s 856ms/step - loss: 0.1960 - accuracy: 0.9395 - val_loss: 0.1966 - val_accuracy: 0.9388\n"
          ]
        }
      ]
    },
    {
      "cell_type": "code",
      "source": [
        "#MODEL EVALUATION (loss and accuracy as defined above in model)\n",
        "cell_model.evaluate_generator(test_img_generator)\n",
        "#~94.1% accuracy and loss=0.19"
      ],
      "metadata": {
        "id": "uRIj_26V61Id",
        "colab": {
          "base_uri": "https://localhost:8080/"
        },
        "outputId": "ca9897ba-ed72-48a8-c7c2-d738abead0e1"
      },
      "execution_count": 31,
      "outputs": [
        {
          "output_type": "stream",
          "name": "stderr",
          "text": [
            "/usr/local/lib/python3.7/dist-packages/ipykernel_launcher.py:2: UserWarning: `Model.evaluate_generator` is deprecated and will be removed in a future version. Please use `Model.evaluate`, which supports generators.\n",
            "  \n"
          ]
        },
        {
          "output_type": "execute_result",
          "data": {
            "text/plain": [
              "[0.19338853657245636, 0.9411538243293762]"
            ]
          },
          "metadata": {},
          "execution_count": 31
        }
      ]
    },
    {
      "cell_type": "markdown",
      "source": [
        "MODEL PREDICTIONS"
      ],
      "metadata": {
        "id": "zLEl0-y__WcH"
      }
    },
    {
      "cell_type": "code",
      "source": [
        "#Model Predictions\n",
        "y_hat=cell_model.predict_generator(test_img_generator)"
      ],
      "metadata": {
        "id": "ifBmHlz97urg",
        "colab": {
          "base_uri": "https://localhost:8080/"
        },
        "outputId": "79ab0161-3998-4d00-abee-b2ed46497ede"
      },
      "execution_count": 42,
      "outputs": [
        {
          "output_type": "stream",
          "name": "stderr",
          "text": [
            "/usr/local/lib/python3.7/dist-packages/ipykernel_launcher.py:2: UserWarning: `Model.predict_generator` is deprecated and will be removed in a future version. Please use `Model.predict`, which supports generators.\n",
            "  \n"
          ]
        }
      ]
    },
    {
      "cell_type": "code",
      "source": [
        "#Converting probability vector to class vector \n",
        "alpha=0.3;#arbitrary threshold here for classifying infected individuals\n",
        "y_pred=np.where(y_hat<alpha,0,1)\n",
        "y_pred[0:5]"
      ],
      "metadata": {
        "id": "bOI-imEG8rEV",
        "colab": {
          "base_uri": "https://localhost:8080/"
        },
        "outputId": "2ce8d3d8-a628-437d-ec97-78283f5468de"
      },
      "execution_count": 45,
      "outputs": [
        {
          "output_type": "execute_result",
          "data": {
            "text/plain": [
              "array([[0],\n",
              "       [0],\n",
              "       [0],\n",
              "       [0],\n",
              "       [1]])"
            ]
          },
          "metadata": {},
          "execution_count": 45
        }
      ]
    },
    {
      "cell_type": "markdown",
      "source": [
        "MODEL EVALUATION"
      ],
      "metadata": {
        "id": "nYaRfGDRAW13"
      }
    },
    {
      "cell_type": "code",
      "source": [
        "from sklearn.metrics import classification_report,confusion_matrix\n",
        "print(classification_report(test_img_generator.classes,y_pred))"
      ],
      "metadata": {
        "id": "DMi4BJI99Wi6",
        "colab": {
          "base_uri": "https://localhost:8080/"
        },
        "outputId": "981fcdf3-6683-415a-ae40-3f9374f916be"
      },
      "execution_count": 47,
      "outputs": [
        {
          "output_type": "stream",
          "name": "stdout",
          "text": [
            "              precision    recall  f1-score   support\n",
            "\n",
            "           0       0.97      0.89      0.93      1300\n",
            "           1       0.90      0.97      0.94      1300\n",
            "\n",
            "    accuracy                           0.93      2600\n",
            "   macro avg       0.94      0.93      0.93      2600\n",
            "weighted avg       0.94      0.93      0.93      2600\n",
            "\n"
          ]
        }
      ]
    },
    {
      "cell_type": "code",
      "source": [
        "sns.heatmap(confusion_matrix(test_img_generator.classes,y_pred),annot=True)\n",
        "#with assumed alpha, model False positives are more than false negatives\n",
        "#chances of type-2 error or beta risk are less,i.e., chances of failing to reject a false null hypothesis is low\n",
        "#Since model is diagnostic of disease, a low beta or Type-2 risk is desirable \n",
        "#Given disease diagnostic model, High alpha or Type-I risk, chances of rejecting null hypothesis when true is somewhat tolerable as it allows further testing for confirmation and reduces chances of misclasaifying diseased individuals as healthy"
      ],
      "metadata": {
        "id": "vq3PEXoy-CkZ",
        "colab": {
          "base_uri": "https://localhost:8080/",
          "height": 282
        },
        "outputId": "2c3062e1-ac05-471b-f654-e4638504718c"
      },
      "execution_count": 49,
      "outputs": [
        {
          "output_type": "execute_result",
          "data": {
            "text/plain": [
              "<matplotlib.axes._subplots.AxesSubplot at 0x7f6dd5a2c410>"
            ]
          },
          "metadata": {},
          "execution_count": 49
        },
        {
          "output_type": "display_data",
          "data": {
            "text/plain": [
              "<Figure size 432x288 with 2 Axes>"
            ],
            "image/png": "[encoded data removed]"
          },
          "metadata": {
            "needs_background": "light"
          }
        }
      ]
    }
  ]
}