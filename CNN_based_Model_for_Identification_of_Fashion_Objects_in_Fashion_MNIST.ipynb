{
  "nbformat": 4,
  "nbformat_minor": 0,
  "metadata": {
    "colab": {
      "name": "CNN based Model for Identification of Fashion Objects in Fashion MNIST.ipynb",
      "provenance": [],
      "authorship_tag": "ABX9TyMxI97Ou7ohbddueOWEHxyg",
      "include_colab_link": true
    },
    "kernelspec": {
      "name": "python3",
      "display_name": "Python 3"
    },
    "language_info": {
      "name": "python"
    }
  },
  "cells": [
    {
      "cell_type": "markdown",
      "metadata": {
        "id": "view-in-github",
        "colab_type": "text"
      },
      "source": [
        "<a href=\"https://colab.research.google.com/github/panimesh14/Deep-Learning-/blob/main/CNN_based_Model_for_Identification_of_Fashion_Objects_in_Fashion_MNIST.ipynb\" target=\"_parent\"><img src=\"https://colab.research.google.com/assets/colab-badge.svg\" alt=\"Open In Colab\"/></a>"
      ]
    },
    {
      "cell_type": "markdown",
      "source": [
        "Convolution Neural Network/CNN based identification of fashion objects in Fashion MNIST"
      ],
      "metadata": {
        "id": "ejIEUsxF4Yjc"
      }
    },
    {
      "cell_type": "markdown",
      "source": [
        "#FMNIST/Fashion MNIST DATA SET\n",
        "60000 Train and 10000 Test Images of articles\n",
        "20% training data used for validation split\n",
        "##Category-Label\n",
        "###Top/T-shirt-0\n",
        "###Trouser-1\n",
        "###Pullover-2\n",
        "###Dress-3\n",
        "###Coat-4\n",
        "###Sandal-5\n",
        "###Shirt-6\n",
        "###Sneaker-7\n",
        "###Bag-8\n",
        "###Ankle Boot-9"
      ],
      "metadata": {
        "id": "oAmTmKzHJ9IP"
      }
    },
    {
      "cell_type": "code",
      "execution_count": 49,
      "metadata": {
        "id": "MkPrbtJG-Jw1"
      },
      "outputs": [],
      "source": [
        "import numpy as np\n",
        "import pandas as pd\n",
        "import matplotlib.pyplot as plt\n",
        "%matplotlib inline\n",
        "import seaborn as sns"
      ]
    },
    {
      "cell_type": "code",
      "source": [
        "from tensorflow.keras.datasets import fashion_mnist"
      ],
      "metadata": {
        "id": "9CHJvNVf-Yld"
      },
      "execution_count": 50,
      "outputs": []
    },
    {
      "cell_type": "code",
      "source": [
        "(Xtrain,ytrain),(Xtest, ytest)=fashion_mnist.load_data()"
      ],
      "metadata": {
        "id": "cmZcnKdW-f31"
      },
      "execution_count": 51,
      "outputs": []
    },
    {
      "cell_type": "markdown",
      "source": [
        "Data Exploration"
      ],
      "metadata": {
        "id": "x38YYHp1-ucd"
      }
    },
    {
      "cell_type": "code",
      "source": [
        "Xtrain.shape"
      ],
      "metadata": {
        "colab": {
          "base_uri": "https://localhost:8080/"
        },
        "id": "a_BuYqyC-sTt",
        "outputId": "ae492b6f-f2f5-4811-c301-571e37aab5b8"
      },
      "execution_count": 52,
      "outputs": [
        {
          "output_type": "execute_result",
          "data": {
            "text/plain": [
              "(60000, 28, 28)"
            ]
          },
          "metadata": {},
          "execution_count": 52
        }
      ]
    },
    {
      "cell_type": "code",
      "source": [
        "ytrain.shape"
      ],
      "metadata": {
        "colab": {
          "base_uri": "https://localhost:8080/"
        },
        "id": "JTARGb7B_QAy",
        "outputId": "8d634ebe-e1eb-4692-d977-03bac289459d"
      },
      "execution_count": 53,
      "outputs": [
        {
          "output_type": "execute_result",
          "data": {
            "text/plain": [
              "(60000,)"
            ]
          },
          "metadata": {},
          "execution_count": 53
        }
      ]
    },
    {
      "cell_type": "code",
      "source": [
        "Xtest.shape"
      ],
      "metadata": {
        "colab": {
          "base_uri": "https://localhost:8080/"
        },
        "id": "tjTLwQ3__V_X",
        "outputId": "a520ae90-41fc-4f79-8512-7f7e7e6fa941"
      },
      "execution_count": 54,
      "outputs": [
        {
          "output_type": "execute_result",
          "data": {
            "text/plain": [
              "(10000, 28, 28)"
            ]
          },
          "metadata": {},
          "execution_count": 54
        }
      ]
    },
    {
      "cell_type": "code",
      "source": [
        "ytest.shape"
      ],
      "metadata": {
        "colab": {
          "base_uri": "https://localhost:8080/"
        },
        "id": "DBnooxSE_YV5",
        "outputId": "e1fe34d1-89b8-4b93-fb25-94c3ae34269a"
      },
      "execution_count": 55,
      "outputs": [
        {
          "output_type": "execute_result",
          "data": {
            "text/plain": [
              "(10000,)"
            ]
          },
          "metadata": {},
          "execution_count": 55
        }
      ]
    },
    {
      "cell_type": "code",
      "source": [
        "plt.imshow(Xtrain[0])"
      ],
      "metadata": {
        "colab": {
          "base_uri": "https://localhost:8080/",
          "height": 282
        },
        "id": "8rMCI6x5_dhp",
        "outputId": "503e1e2e-7edb-4ee1-c5e6-f61329cb793a"
      },
      "execution_count": 56,
      "outputs": [
        {
          "output_type": "execute_result",
          "data": {
            "text/plain": [
              "<matplotlib.image.AxesImage at 0x7fe4a6304290>"
            ]
          },
          "metadata": {},
          "execution_count": 56
        },
        {
          "output_type": "display_data",
          "data": {
            "text/plain": [
              "<Figure size 432x288 with 1 Axes>"
            ],
            "image/png": "[encoded data removed]"
          },
          "metadata": {
            "needs_background": "light"
          }
        }
      ]
    },
    {
      "cell_type": "code",
      "source": [
        "ytrain[0]"
      ],
      "metadata": {
        "colab": {
          "base_uri": "https://localhost:8080/"
        },
        "id": "2ERVBTwH_os6",
        "outputId": "b2a5ef97-bab4-40bf-e3ea-8da258c3b509"
      },
      "execution_count": 57,
      "outputs": [
        {
          "output_type": "execute_result",
          "data": {
            "text/plain": [
              "9"
            ]
          },
          "metadata": {},
          "execution_count": 57
        }
      ]
    },
    {
      "cell_type": "code",
      "source": [
        "np.unique(ytrain)\n",
        "#10 objects or keys"
      ],
      "metadata": {
        "colab": {
          "base_uri": "https://localhost:8080/"
        },
        "id": "2PPXRpEBCVOV",
        "outputId": "818ba5ef-df1f-4f4a-e201-7cc36cee2bb4"
      },
      "execution_count": 58,
      "outputs": [
        {
          "output_type": "execute_result",
          "data": {
            "text/plain": [
              "array([0, 1, 2, 3, 4, 5, 6, 7, 8, 9], dtype=uint8)"
            ]
          },
          "metadata": {},
          "execution_count": 58
        }
      ]
    },
    {
      "cell_type": "markdown",
      "source": [
        "Data Preparation"
      ],
      "metadata": {
        "id": "OJkj9hERBaqU"
      }
    },
    {
      "cell_type": "code",
      "source": [
        "\n",
        "#Categorical Encoding \n",
        "from tensorflow.keras.utils import to_categorical\n",
        "ytrain_one_hot=to_categorical(ytrain,10)\n",
        "ytest_one_hot=to_categorical(ytest,10)"
      ],
      "metadata": {
        "id": "PbO4CGCt_xzL"
      },
      "execution_count": 59,
      "outputs": []
    },
    {
      "cell_type": "code",
      "source": [
        "#Scaling and Normalizing Images\n",
        "Xtrain_scaled=Xtrain/Xtrain.max()\n",
        "Xtest_scaled=Xtest/Xtest.max()"
      ],
      "metadata": {
        "id": "y40rVgkoA83h"
      },
      "execution_count": 60,
      "outputs": []
    },
    {
      "cell_type": "code",
      "source": [
        "Xtrain.reshape(60000,28,28,1)\n",
        "Xtest.reshape(10000,28,28,1)\n",
        "Xtrain.shape"
      ],
      "metadata": {
        "colab": {
          "base_uri": "https://localhost:8080/"
        },
        "id": "jUhnfNMFD2Xj",
        "outputId": "d1c81e5a-61a2-4c65-b136-9433ddc1ba3a"
      },
      "execution_count": 61,
      "outputs": [
        {
          "output_type": "execute_result",
          "data": {
            "text/plain": [
              "(60000, 28, 28)"
            ]
          },
          "metadata": {},
          "execution_count": 61
        }
      ]
    },
    {
      "cell_type": "markdown",
      "source": [
        "Model Building"
      ],
      "metadata": {
        "id": "VmXweitgCkdq"
      }
    },
    {
      "cell_type": "code",
      "source": [
        "from tensorflow.keras.models import Sequential\n",
        "from tensorflow.keras.layers import Conv2D,MaxPool2D,Flatten,Dense\n",
        "fmnist_model=Sequential()\n",
        "\n",
        "#Convolutional Layer 1\n",
        "fmnist_model.add(Conv2D(filters=16,kernel_size=(6,6),input_shape=(28,28,1),activation='relu'))\n",
        "fmnist_model.add(MaxPool2D(pool_size=(2,2)))\n",
        "\n",
        "#Convolutional Layer 2\n",
        "#fmnist_model.add(Conv2D(filters=16,kernel_size=(4,4),input_shape=(28,28,1),activation='relu'))\n",
        "#fmnist_model.add(MaxPool2D(pool_size=(2,2)))\n",
        "\n",
        "#Convolutional Layer 3\n",
        "#fmnist_model.add(Conv2D(filters=32,kernel_size=(4,4),input_shape= (28,28,1),activation='relu'))\n",
        "#fmnist_model.add(MaxPool2D(pool_size=(2,2)))\n",
        "\n",
        "#Flatten\n",
        "fmnist_model.add(Flatten())\n",
        "\n",
        "#MLP layer\n",
        "fmnist_model.add(Dense(256,activation='relu'))\n",
        "fmnist_model.add(Dense(10,activation='softmax'))\n",
        "\n",
        "fmnist_model.compile(optimizer='adam',loss='categorical_crossentropy',metrics=['accuracy'])\n",
        "\n",
        "fmnist_model.summary()"
      ],
      "metadata": {
        "colab": {
          "base_uri": "https://localhost:8080/"
        },
        "id": "jQS1cvAiChyE",
        "outputId": "a2969d84-9030-4673-c3ff-a6f9c7772cd8"
      },
      "execution_count": 82,
      "outputs": [
        {
          "output_type": "stream",
          "name": "stdout",
          "text": [
            "Model: \"sequential_5\"\n",
            "_________________________________________________________________\n",
            " Layer (type)                Output Shape              Param #   \n",
            "=================================================================\n",
            " conv2d_5 (Conv2D)           (None, 23, 23, 16)        592       \n",
            "                                                                 \n",
            " max_pooling2d_5 (MaxPooling  (None, 11, 11, 16)       0         \n",
            " 2D)                                                             \n",
            "                                                                 \n",
            " flatten_5 (Flatten)         (None, 1936)              0         \n",
            "                                                                 \n",
            " dense_9 (Dense)             (None, 256)               495872    \n",
            "                                                                 \n",
            " dense_10 (Dense)            (None, 10)                2570      \n",
            "                                                                 \n",
            "=================================================================\n",
            "Total params: 499,034\n",
            "Trainable params: 499,034\n",
            "Non-trainable params: 0\n",
            "_________________________________________________________________\n"
          ]
        }
      ]
    },
    {
      "cell_type": "code",
      "source": [
        "from tensorflow.keras.callbacks import EarlyStopping\n",
        "early_stop = EarlyStopping(monitor='val_loss',patience=2)"
      ],
      "metadata": {
        "id": "UE71czxyGKV4"
      },
      "execution_count": 83,
      "outputs": []
    },
    {
      "cell_type": "markdown",
      "source": [
        "Model Fitting"
      ],
      "metadata": {
        "id": "8tTlleZQGNOf"
      }
    },
    {
      "cell_type": "code",
      "source": [
        "fmnist_model.fit(Xtrain_scaled,ytrain_one_hot,epochs=10,validation_split=0.2,callbacks=[early_stop])"
      ],
      "metadata": {
        "colab": {
          "base_uri": "https://localhost:8080/"
        },
        "id": "n3eKnhIIG3rZ",
        "outputId": "899ba1f5-2aa9-4aaf-da0e-b8d70a53e2e6"
      },
      "execution_count": 84,
      "outputs": [
        {
          "output_type": "stream",
          "name": "stdout",
          "text": [
            "Epoch 1/10\n",
            "1500/1500 [==============================] - 34s 22ms/step - loss: 0.4500 - accuracy: 0.8398 - val_loss: 0.3490 - val_accuracy: 0.8749\n",
            "Epoch 2/10\n",
            "1500/1500 [==============================] - 34s 23ms/step - loss: 0.3093 - accuracy: 0.8871 - val_loss: 0.3075 - val_accuracy: 0.8867\n",
            "Epoch 3/10\n",
            "1500/1500 [==============================] - 33s 22ms/step - loss: 0.2635 - accuracy: 0.9022 - val_loss: 0.2914 - val_accuracy: 0.8956\n",
            "Epoch 4/10\n",
            "1500/1500 [==============================] - 33s 22ms/step - loss: 0.2251 - accuracy: 0.9153 - val_loss: 0.2964 - val_accuracy: 0.8941\n",
            "Epoch 5/10\n",
            "1500/1500 [==============================] - 33s 22ms/step - loss: 0.1999 - accuracy: 0.9254 - val_loss: 0.2727 - val_accuracy: 0.9022\n",
            "Epoch 6/10\n",
            "1500/1500 [==============================] - 34s 23ms/step - loss: 0.1751 - accuracy: 0.9351 - val_loss: 0.2807 - val_accuracy: 0.9028\n",
            "Epoch 7/10\n",
            "1500/1500 [==============================] - 33s 22ms/step - loss: 0.1560 - accuracy: 0.9414 - val_loss: 0.2723 - val_accuracy: 0.9103\n",
            "Epoch 8/10\n",
            "1500/1500 [==============================] - 33s 22ms/step - loss: 0.1328 - accuracy: 0.9511 - val_loss: 0.2958 - val_accuracy: 0.9033\n",
            "Epoch 9/10\n",
            "1500/1500 [==============================] - 33s 22ms/step - loss: 0.1165 - accuracy: 0.9559 - val_loss: 0.2914 - val_accuracy: 0.9114\n"
          ]
        },
        {
          "output_type": "execute_result",
          "data": {
            "text/plain": [
              "<keras.callbacks.History at 0x7fe4a9df71d0>"
            ]
          },
          "metadata": {},
          "execution_count": 84
        }
      ]
    },
    {
      "cell_type": "code",
      "source": [
        "#Discarding fmnist_model2;\n",
        "fmnist_model2=fmnist_model;\n",
        "fmnist_model2.fit(Xtrain_scaled,ytrain_one_hot\n",
        ",epochs=5,validation_split=0.2,callbacks=[early_stop])\n",
        "#Training 5 more epochs\n",
        "#training accuracy shows improvement \n",
        "#little improvement registered in validation data"
      ],
      "metadata": {
        "id": "AGgV4tKwhcN9"
      },
      "execution_count": null,
      "outputs": []
    },
    {
      "cell_type": "markdown",
      "source": [
        "Model Testing and Evaluation"
      ],
      "metadata": {
        "id": "9e__ud1CIXO2"
      }
    },
    {
      "cell_type": "code",
      "source": [
        "fmnist_hist=pd.DataFrame(fmnist_model.history.history)\n",
        "fmnist_hist.columns"
      ],
      "metadata": {
        "colab": {
          "base_uri": "https://localhost:8080/"
        },
        "id": "PkvX3DO1p-T-",
        "outputId": "3c4bc2b2-9271-4e02-970e-f36c05015d08"
      },
      "execution_count": 85,
      "outputs": [
        {
          "output_type": "execute_result",
          "data": {
            "text/plain": [
              "Index(['loss', 'accuracy', 'val_loss', 'val_accuracy'], dtype='object')"
            ]
          },
          "metadata": {},
          "execution_count": 85
        }
      ]
    },
    {
      "cell_type": "code",
      "source": [
        "fmnist_hist[['loss','val_loss']].plot()\n",
        "fmnist_hist[['accuracy','val_accuracy']].plot()"
      ],
      "metadata": {
        "colab": {
          "base_uri": "https://localhost:8080/",
          "height": 531
        },
        "id": "wm1IxfKwqlSD",
        "outputId": "975e5e9b-a75f-4ff4-a277-07532f669532"
      },
      "execution_count": 86,
      "outputs": [
        {
          "output_type": "execute_result",
          "data": {
            "text/plain": [
              "<matplotlib.axes._subplots.AxesSubplot at 0x7fe4b0ab4dd0>"
            ]
          },
          "metadata": {},
          "execution_count": 86
        },
        {
          "output_type": "display_data",
          "data": {
            "text/plain": [
              "<Figure size 432x288 with 1 Axes>"
            ],
            "image/png": "[encoded data removed]"
          },
          "metadata": {
            "needs_background": "light"
          }
        },
        {
          "output_type": "display_data",
          "data": {
            "text/plain": [
              "<Figure size 432x288 with 1 Axes>"
            ],
            "image/png": "[encoded data removed]"
          },
          "metadata": {
            "needs_background": "light"
          }
        }
      ]
    },
    {
      "cell_type": "code",
      "source": [
        "fmnist_hist"
      ],
      "metadata": {
        "colab": {
          "base_uri": "https://localhost:8080/",
          "height": 332
        },
        "id": "Seaov5R3IOez",
        "outputId": "a37a7285-c4cc-4ff3-e778-55c1efd609fa"
      },
      "execution_count": 87,
      "outputs": [
        {
          "output_type": "execute_result",
          "data": {
            "text/plain": [
              "       loss  accuracy  val_loss  val_accuracy\n",
              "0  0.450031  0.839833  0.348987      0.874917\n",
              "1  0.309307  0.887146  0.307485      0.886750\n",
              "2  0.263547  0.902229  0.291436      0.895583\n",
              "3  0.225145  0.915313  0.296402      0.894083\n",
              "4  0.199901  0.925438  0.272733      0.902167\n",
              "5  0.175086  0.935146  0.280728      0.902833\n",
              "6  0.156002  0.941354  0.272269      0.910333\n",
              "7  0.132811  0.951146  0.295798      0.903333\n",
              "8  0.116510  0.955875  0.291385      0.911417"
            ],
            "text/html": [
              "\n",
              "  <div id=\"df-d3f911ec-37a7-45a6-97d6-ed49f47efd5c\">\n",
              "    <div class=\"colab-df-container\">\n",
              "      <div>\n",
              "<style scoped>\n",
              "    .dataframe tbody tr th:only-of-type {\n",
              "        vertical-align: middle;\n",
              "    }\n",
              "\n",
              "    .dataframe tbody tr th {\n",
              "        vertical-align: top;\n",
              "    }\n",
              "\n",
              "    .dataframe thead th {\n",
              "        text-align: right;\n",
              "    }\n",
              "</style>\n",
              "<table border=\"1\" class=\"dataframe\">\n",
              "  <thead>\n",
              "    <tr style=\"text-align: right;\">\n",
              "      <th></th>\n",
              "      <th>loss</th>\n",
              "      <th>accuracy</th>\n",
              "      <th>val_loss</th>\n",
              "      <th>val_accuracy</th>\n",
              "    </tr>\n",
              "  </thead>\n",
              "  <tbody>\n",
              "    <tr>\n",
              "      <th>0</th>\n",
              "      <td>0.450031</td>\n",
              "      <td>0.839833</td>\n",
              "      <td>0.348987</td>\n",
              "      <td>0.874917</td>\n",
              "    </tr>\n",
              "    <tr>\n",
              "      <th>1</th>\n",
              "      <td>0.309307</td>\n",
              "      <td>0.887146</td>\n",
              "      <td>0.307485</td>\n",
              "      <td>0.886750</td>\n",
              "    </tr>\n",
              "    <tr>\n",
              "      <th>2</th>\n",
              "      <td>0.263547</td>\n",
              "      <td>0.902229</td>\n",
              "      <td>0.291436</td>\n",
              "      <td>0.895583</td>\n",
              "    </tr>\n",
              "    <tr>\n",
              "      <th>3</th>\n",
              "      <td>0.225145</td>\n",
              "      <td>0.915313</td>\n",
              "      <td>0.296402</td>\n",
              "      <td>0.894083</td>\n",
              "    </tr>\n",
              "    <tr>\n",
              "      <th>4</th>\n",
              "      <td>0.199901</td>\n",
              "      <td>0.925438</td>\n",
              "      <td>0.272733</td>\n",
              "      <td>0.902167</td>\n",
              "    </tr>\n",
              "    <tr>\n",
              "      <th>5</th>\n",
              "      <td>0.175086</td>\n",
              "      <td>0.935146</td>\n",
              "      <td>0.280728</td>\n",
              "      <td>0.902833</td>\n",
              "    </tr>\n",
              "    <tr>\n",
              "      <th>6</th>\n",
              "      <td>0.156002</td>\n",
              "      <td>0.941354</td>\n",
              "      <td>0.272269</td>\n",
              "      <td>0.910333</td>\n",
              "    </tr>\n",
              "    <tr>\n",
              "      <th>7</th>\n",
              "      <td>0.132811</td>\n",
              "      <td>0.951146</td>\n",
              "      <td>0.295798</td>\n",
              "      <td>0.903333</td>\n",
              "    </tr>\n",
              "    <tr>\n",
              "      <th>8</th>\n",
              "      <td>0.116510</td>\n",
              "      <td>0.955875</td>\n",
              "      <td>0.291385</td>\n",
              "      <td>0.911417</td>\n",
              "    </tr>\n",
              "  </tbody>\n",
              "</table>\n",
              "</div>\n",
              "      <button class=\"colab-df-convert\" onclick=\"convertToInteractive('df-d3f911ec-37a7-45a6-97d6-ed49f47efd5c')\"\n",
              "              title=\"Convert this dataframe to an interactive table.\"\n",
              "              style=\"display:none;\">\n",
              "        \n",
              "  <svg xmlns=\"http://www.w3.org/2000/svg\" height=\"24px\"viewBox=\"0 0 24 24\"\n",
              "       width=\"24px\">\n",
              "    <path d=\"M0 0h24v24H0V0z\" fill=\"none\"/>\n",
              "    <path d=\"M18.56 5.44l.94 2.06.94-2.06 2.06-.94-2.06-.94-.94-2.06-.94 2.06-2.06.94zm-11 1L8.5 8.5l.94-2.06 2.06-.94-2.06-.94L8.5 2.5l-.94 2.06-2.06.94zm10 10l.94 2.06.94-2.06 2.06-.94-2.06-.94-.94-2.06-.94 2.06-2.06.94z\"/><path d=\"M17.41 7.96l-1.37-1.37c-.4-.4-.92-.59-1.43-.59-.52 0-1.04.2-1.43.59L10.3 9.45l-7.72 7.72c-.78.78-.78 2.05 0 2.83L4 21.41c.39.39.9.59 1.41.59.51 0 1.02-.2 1.41-.59l7.78-7.78 2.81-2.81c.8-.78.8-2.07 0-2.86zM5.41 20L4 18.59l7.72-7.72 1.47 1.35L5.41 20z\"/>\n",
              "  </svg>\n",
              "      </button>\n",
              "      \n",
              "  <style>\n",
              "    .colab-df-container {\n",
              "      display:flex;\n",
              "      flex-wrap:wrap;\n",
              "      gap: 12px;\n",
              "    }\n",
              "\n",
              "    .colab-df-convert {\n",
              "      background-color: #E8F0FE;\n",
              "      border: none;\n",
              "      border-radius: 50%;\n",
              "      cursor: pointer;\n",
              "      display: none;\n",
              "      fill: #1967D2;\n",
              "      height: 32px;\n",
              "      padding: 0 0 0 0;\n",
              "      width: 32px;\n",
              "    }\n",
              "\n",
              "    .colab-df-convert:hover {\n",
              "      background-color: #E2EBFA;\n",
              "      box-shadow: 0px 1px 2px rgba(60, 64, 67, 0.3), 0px 1px 3px 1px rgba(60, 64, 67, 0.15);\n",
              "      fill: #174EA6;\n",
              "    }\n",
              "\n",
              "    [theme=dark] .colab-df-convert {\n",
              "      background-color: #3B4455;\n",
              "      fill: #D2E3FC;\n",
              "    }\n",
              "\n",
              "    [theme=dark] .colab-df-convert:hover {\n",
              "      background-color: #434B5C;\n",
              "      box-shadow: 0px 1px 3px 1px rgba(0, 0, 0, 0.15);\n",
              "      filter: drop-shadow(0px 1px 2px rgba(0, 0, 0, 0.3));\n",
              "      fill: #FFFFFF;\n",
              "    }\n",
              "  </style>\n",
              "\n",
              "      <script>\n",
              "        const buttonEl =\n",
              "          document.querySelector('#df-d3f911ec-37a7-45a6-97d6-ed49f47efd5c button.colab-df-convert');\n",
              "        buttonEl.style.display =\n",
              "          google.colab.kernel.accessAllowed ? 'block' : 'none';\n",
              "\n",
              "        async function convertToInteractive(key) {\n",
              "          const element = document.querySelector('#df-d3f911ec-37a7-45a6-97d6-ed49f47efd5c');\n",
              "          const dataTable =\n",
              "            await google.colab.kernel.invokeFunction('convertToInteractive',\n",
              "                                                     [key], {});\n",
              "          if (!dataTable) return;\n",
              "\n",
              "          const docLinkHtml = 'Like what you see? Visit the ' +\n",
              "            '<a target=\"_blank\" href=https://colab.research.google.com/notebooks/data_table.ipynb>data table notebook</a>'\n",
              "            + ' to learn more about interactive tables.';\n",
              "          element.innerHTML = '';\n",
              "          dataTable['output_type'] = 'display_data';\n",
              "          await google.colab.output.renderOutput(dataTable, element);\n",
              "          const docLink = document.createElement('div');\n",
              "          docLink.innerHTML = docLinkHtml;\n",
              "          element.appendChild(docLink);\n",
              "        }\n",
              "      </script>\n",
              "    </div>\n",
              "  </div>\n",
              "  "
            ]
          },
          "metadata": {},
          "execution_count": 87
        }
      ]
    },
    {
      "cell_type": "code",
      "source": [
        "yhat=fmnist_model.predict(Xtest_scaled)\n",
        "#yhat=scaler.inverse_transform(yhat_scaled)\n",
        "yhat_class=np.argmax(yhat,axis=1)"
      ],
      "metadata": {
        "id": "d2T8Asg8IcZR"
      },
      "execution_count": 88,
      "outputs": []
    },
    {
      "cell_type": "code",
      "source": [
        "from sklearn.metrics import classification_report,confusion_matrix\n",
        "print(classification_report(ytest,yhat_class))\n",
        "#object/class 6 is the most misclaasified class after object/class 4"
      ],
      "metadata": {
        "colab": {
          "base_uri": "https://localhost:8080/"
        },
        "id": "b9tx1ulfI1gs",
        "outputId": "06b429a9-2c55-4111-e84a-82391dbff47e"
      },
      "execution_count": 89,
      "outputs": [
        {
          "output_type": "stream",
          "name": "stdout",
          "text": [
            "              precision    recall  f1-score   support\n",
            "\n",
            "           0       0.79      0.90      0.84      1000\n",
            "           1       0.98      0.99      0.98      1000\n",
            "           2       0.85      0.85      0.85      1000\n",
            "           3       0.93      0.90      0.91      1000\n",
            "           4       0.83      0.85      0.84      1000\n",
            "           5       0.98      0.98      0.98      1000\n",
            "           6       0.77      0.65      0.71      1000\n",
            "           7       0.96      0.97      0.96      1000\n",
            "           8       0.98      0.98      0.98      1000\n",
            "           9       0.97      0.97      0.97      1000\n",
            "\n",
            "    accuracy                           0.90     10000\n",
            "   macro avg       0.90      0.90      0.90     10000\n",
            "weighted avg       0.90      0.90      0.90     10000\n",
            "\n"
          ]
        }
      ]
    },
    {
      "cell_type": "code",
      "source": [
        "\n",
        "#Object/Class 6-Shirt\n",
        "plt.imshow(Xtrain[np.argmax(ytrain==6)])\n",
        "#Least precision, recall and f1-score for this object"
      ],
      "metadata": {
        "colab": {
          "base_uri": "https://localhost:8080/",
          "height": 282
        },
        "id": "ga_hOEdZwOwd",
        "outputId": "d27fdf0c-64f2-45c3-d791-8973afc2e816"
      },
      "execution_count": 90,
      "outputs": [
        {
          "output_type": "execute_result",
          "data": {
            "text/plain": [
              "<matplotlib.image.AxesImage at 0x7fe4a9f38c50>"
            ]
          },
          "metadata": {},
          "execution_count": 90
        },
        {
          "output_type": "display_data",
          "data": {
            "text/plain": [
              "<Figure size 432x288 with 1 Axes>"
            ],
            "image/png": "[encoded data removed]"
          },
          "metadata": {
            "needs_background": "light"
          }
        }
      ]
    },
    {
      "cell_type": "code",
      "source": [
        "sns.heatmap(confusion_matrix(ytest,yhat_class),annot=True)\n",
        "#300 objects of class 6 are labeled class 0 \n",
        "#100 objects of class 2 are labeled  class 6 by model"
      ],
      "metadata": {
        "colab": {
          "base_uri": "https://localhost:8080/",
          "height": 282
        },
        "id": "kOjBDylhJfdL",
        "outputId": "31335d91-01c5-46e0-f425-986bbd9a9dab"
      },
      "execution_count": 91,
      "outputs": [
        {
          "output_type": "execute_result",
          "data": {
            "text/plain": [
              "<matplotlib.axes._subplots.AxesSubplot at 0x7fe4b0bd2610>"
            ]
          },
          "metadata": {},
          "execution_count": 91
        },
        {
          "output_type": "display_data",
          "data": {
            "text/plain": [
              "<Figure size 432x288 with 2 Axes>"
            ],
            "image/png": "[encoded data removed]"
          },
          "metadata": {
            "needs_background": "light"
          }
        }
      ]
    },
    {
      "cell_type": "code",
      "source": [
        "#object/class 0-Top/T-Shirt\n",
        "plt.imshow(Xtrain[np.argmax(ytrain==0)])\n",
        "#model mislabels class 6 as Class 0"
      ],
      "metadata": {
        "colab": {
          "base_uri": "https://localhost:8080/",
          "height": 282
        },
        "id": "gKQoGm1azmGX",
        "outputId": "392ab5d6-ec70-44ee-86d8-4df34abd1ee5"
      },
      "execution_count": 92,
      "outputs": [
        {
          "output_type": "execute_result",
          "data": {
            "text/plain": [
              "<matplotlib.image.AxesImage at 0x7fe4b1bea3d0>"
            ]
          },
          "metadata": {},
          "execution_count": 92
        },
        {
          "output_type": "display_data",
          "data": {
            "text/plain": [
              "<Figure size 432x288 with 1 Axes>"
            ],
            "image/png": "[encoded data removed]"
          },
          "metadata": {
            "needs_background": "light"
          }
        }
      ]
    },
    {
      "cell_type": "code",
      "source": [
        "#object/class 2-Pullover\n",
        "plt.imshow(Xtrain[np.argmax(ytrain==2)])\n",
        "#Class 2 falsely classified Class 6 which is due to high resemblance with Class 6"
      ],
      "metadata": {
        "colab": {
          "base_uri": "https://localhost:8080/",
          "height": 282
        },
        "id": "TKIWfqQx0DVN",
        "outputId": "2c1f0a3f-3392-499c-a7cb-f184e326dd0c"
      },
      "execution_count": 93,
      "outputs": [
        {
          "output_type": "execute_result",
          "data": {
            "text/plain": [
              "<matplotlib.image.AxesImage at 0x7fe4b1b49d10>"
            ]
          },
          "metadata": {},
          "execution_count": 93
        },
        {
          "output_type": "display_data",
          "data": {
            "text/plain": [
              "<Figure size 432x288 with 1 Axes>"
            ],
            "image/png": "[encoded data removed]"
          },
          "metadata": {
            "needs_background": "light"
          }
        }
      ]
    },
    {
      "cell_type": "code",
      "source": [
        "#object/class 4-Coat\n",
        "plt.imshow(Xtrain[np.argmax(ytrain==4)])\n",
        "#Class 2 misclasaified with Class 4"
      ],
      "metadata": {
        "colab": {
          "base_uri": "https://localhost:8080/",
          "height": 282
        },
        "id": "jTe44ttNZTSH",
        "outputId": "41122561-71d3-459b-84c4-b1db0f383c31"
      },
      "execution_count": 94,
      "outputs": [
        {
          "output_type": "execute_result",
          "data": {
            "text/plain": [
              "<matplotlib.image.AxesImage at 0x7fe4b1b309d0>"
            ]
          },
          "metadata": {},
          "execution_count": 94
        },
        {
          "output_type": "display_data",
          "data": {
            "text/plain": [
              "<Figure size 432x288 with 1 Axes>"
            ],
            "image/png": "[encoded data removed]"
          },
          "metadata": {
            "needs_background": "light"
          }
        }
      ]
    },
    {
      "cell_type": "code",
      "source": [
        ""
      ],
      "metadata": {
        "id": "mewKvJsGaMRz"
      },
      "execution_count": 94,
      "outputs": []
    },
    {
      "cell_type": "markdown",
      "source": [
        "#### Current model generates training accuracy of ~95% accuracy while an accuracy of ~91% on validation set while an average precision, recall and f1-score of ~90% on test data.\n",
        "\n",
        "#### Model has overall good ability and reliability to identify and discern objects but remains prone to misclassification and gets confused between similar objects, especially class 6. \n",
        "\n",
        "\n",
        "#### High-level features in these classes show high visual similarity as appears in the images and are hard to distinguish for the model. One can dabble between kernel size and number of filters and/or convolutional layers to improve feature selection/extraction. This may also lead to fine tuning the model further and raise the accuracy levels, while keeping in mind that it may be prone to overfitting."
      ],
      "metadata": {
        "id": "vzstfDowbl8T"
      }
    }
  ]
}