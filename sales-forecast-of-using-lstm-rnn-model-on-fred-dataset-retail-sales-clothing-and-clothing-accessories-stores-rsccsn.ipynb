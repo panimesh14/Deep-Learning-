{
  "nbformat": 4,
  "nbformat_minor": 0,
  "metadata": {
    "colab": {
      "name": "Sales Forecast of using LSTM RNN model on FRED dataset Retail Sales:Clothing and Clothing Accessories Stores(RSCCSN)).ipynb",
      "provenance": [],
      "collapsed_sections": [],
      "mount_file_id": "1Tp70Ix80aKoT1OcJfYTPwGm4KQwNQ1R2",
      "authorship_tag": "ABX9TyOjSnd5IPxZ2jvnZdcLqaJU",
      "include_colab_link": true
    },
    "kernelspec": {
      "name": "python3",
      "display_name": "Python 3"
    },
    "language_info": {
      "name": "python"
    }
  },
  "cells": [
    {
      "cell_type": "markdown",
      "metadata": {
        "id": "view-in-github",
        "colab_type": "text"
      },
      "source": [
        "<a href=\"https://colab.research.google.com/gist/panimesh14/193711bbb2996a49b757c22983cb4b80/sales-forecast-of-using-lstm-rnn-model-on-fred-dataset-retail-sales-clothing-and-clothing-accessories-stores-rsccsn.ipynb\" target=\"_parent\"><img src=\"https://colab.research.google.com/assets/colab-badge.svg\" alt=\"Open In Colab\"/></a>"
      ]
    },
    {
      "cell_type": "markdown",
      "source": [
        "LSTM RNN Models for forecast and advance estimation of Sales on FRED RSCCASN-Federal Reserve Economic Research Department, namely Retail Sales: Clothing and Clothing Accessories Stores Number"
      ],
      "metadata": {
        "id": "UWx6x8F2MBoY"
      }
    },
    {
      "cell_type": "code",
      "source": [
        "import numpy as np\n",
        "import pandas as pd\n",
        "import matplotlib.pyplot as plt\n",
        "%matplotlib inline\n",
        "import seaborn as sns"
      ],
      "metadata": {
        "id": "JwtTe2KtKXya"
      },
      "execution_count": 34,
      "outputs": []
    },
    {
      "cell_type": "code",
      "source": [
        "df = pd.read_csv('RSCCASN.csv')"
      ],
      "metadata": {
        "id": "-ro3AVSGNZCE"
      },
      "execution_count": 35,
      "outputs": []
    },
    {
      "cell_type": "code",
      "source": [
        "df.info()"
      ],
      "metadata": {
        "colab": {
          "base_uri": "https://localhost:8080/"
        },
        "id": "kkVqy0PxNhdO",
        "outputId": "9a540c34-4588-4651-f2a3-68a818e66c86"
      },
      "execution_count": 36,
      "outputs": [
        {
          "output_type": "stream",
          "name": "stdout",
          "text": [
            "<class 'pandas.core.frame.DataFrame'>\n",
            "RangeIndex: 334 entries, 0 to 333\n",
            "Data columns (total 2 columns):\n",
            " #   Column   Non-Null Count  Dtype \n",
            "---  ------   --------------  ----- \n",
            " 0   DATE     334 non-null    object\n",
            " 1   RSCCASN  334 non-null    int64 \n",
            "dtypes: int64(1), object(1)\n",
            "memory usage: 5.3+ KB\n"
          ]
        }
      ]
    },
    {
      "cell_type": "code",
      "source": [
        "\n",
        "#converting to datetime object\n",
        "df['DATE'] = pd.to_datetime(df['DATE'])\n",
        "df.info()"
      ],
      "metadata": {
        "colab": {
          "base_uri": "https://localhost:8080/"
        },
        "id": "uevS-yvNY8es",
        "outputId": "377a07ae-fab5-4b91-fc64-3c41b5021b95"
      },
      "execution_count": 37,
      "outputs": [
        {
          "output_type": "stream",
          "name": "stdout",
          "text": [
            "<class 'pandas.core.frame.DataFrame'>\n",
            "RangeIndex: 334 entries, 0 to 333\n",
            "Data columns (total 2 columns):\n",
            " #   Column   Non-Null Count  Dtype         \n",
            "---  ------   --------------  -----         \n",
            " 0   DATE     334 non-null    datetime64[ns]\n",
            " 1   RSCCASN  334 non-null    int64         \n",
            "dtypes: datetime64[ns](1), int64(1)\n",
            "memory usage: 5.3 KB\n"
          ]
        }
      ]
    },
    {
      "cell_type": "code",
      "source": [
        "\n",
        "#Setting Index of Datframe\n",
        "df.rename(columns={'RSCCASN':'Sales'},inplace=True)\n",
        "df.set_index('DATE',inplace=True)"
      ],
      "metadata": {
        "id": "mZJd3D6wacKO"
      },
      "execution_count": 38,
      "outputs": []
    },
    {
      "cell_type": "code",
      "source": [
        "df"
      ],
      "metadata": {
        "colab": {
          "base_uri": "https://localhost:8080/",
          "height": 455
        },
        "id": "zR5abirKkJLn",
        "outputId": "9246f2a7-fb8d-4d4a-ddc5-9b18d5f2cda9"
      },
      "execution_count": 39,
      "outputs": [
        {
          "output_type": "execute_result",
          "data": {
            "text/plain": [
              "            Sales\n",
              "DATE             \n",
              "1992-01-01   6938\n",
              "1992-02-01   7524\n",
              "1992-03-01   8475\n",
              "1992-04-01   9401\n",
              "1992-05-01   9558\n",
              "...           ...\n",
              "2019-06-01  21123\n",
              "2019-07-01  21714\n",
              "2019-08-01  23791\n",
              "2019-09-01  19695\n",
              "2019-10-01  21113\n",
              "\n",
              "[334 rows x 1 columns]"
            ],
            "text/html": [
              "\n",
              "  <div id=\"df-6526f1ab-1156-4a57-a5b7-85f7d44adc6c\">\n",
              "    <div class=\"colab-df-container\">\n",
              "      <div>\n",
              "<style scoped>\n",
              "    .dataframe tbody tr th:only-of-type {\n",
              "        vertical-align: middle;\n",
              "    }\n",
              "\n",
              "    .dataframe tbody tr th {\n",
              "        vertical-align: top;\n",
              "    }\n",
              "\n",
              "    .dataframe thead th {\n",
              "        text-align: right;\n",
              "    }\n",
              "</style>\n",
              "<table border=\"1\" class=\"dataframe\">\n",
              "  <thead>\n",
              "    <tr style=\"text-align: right;\">\n",
              "      <th></th>\n",
              "      <th>Sales</th>\n",
              "    </tr>\n",
              "    <tr>\n",
              "      <th>DATE</th>\n",
              "      <th></th>\n",
              "    </tr>\n",
              "  </thead>\n",
              "  <tbody>\n",
              "    <tr>\n",
              "      <th>1992-01-01</th>\n",
              "      <td>6938</td>\n",
              "    </tr>\n",
              "    <tr>\n",
              "      <th>1992-02-01</th>\n",
              "      <td>7524</td>\n",
              "    </tr>\n",
              "    <tr>\n",
              "      <th>1992-03-01</th>\n",
              "      <td>8475</td>\n",
              "    </tr>\n",
              "    <tr>\n",
              "      <th>1992-04-01</th>\n",
              "      <td>9401</td>\n",
              "    </tr>\n",
              "    <tr>\n",
              "      <th>1992-05-01</th>\n",
              "      <td>9558</td>\n",
              "    </tr>\n",
              "    <tr>\n",
              "      <th>...</th>\n",
              "      <td>...</td>\n",
              "    </tr>\n",
              "    <tr>\n",
              "      <th>2019-06-01</th>\n",
              "      <td>21123</td>\n",
              "    </tr>\n",
              "    <tr>\n",
              "      <th>2019-07-01</th>\n",
              "      <td>21714</td>\n",
              "    </tr>\n",
              "    <tr>\n",
              "      <th>2019-08-01</th>\n",
              "      <td>23791</td>\n",
              "    </tr>\n",
              "    <tr>\n",
              "      <th>2019-09-01</th>\n",
              "      <td>19695</td>\n",
              "    </tr>\n",
              "    <tr>\n",
              "      <th>2019-10-01</th>\n",
              "      <td>21113</td>\n",
              "    </tr>\n",
              "  </tbody>\n",
              "</table>\n",
              "<p>334 rows × 1 columns</p>\n",
              "</div>\n",
              "      <button class=\"colab-df-convert\" onclick=\"convertToInteractive('df-6526f1ab-1156-4a57-a5b7-85f7d44adc6c')\"\n",
              "              title=\"Convert this dataframe to an interactive table.\"\n",
              "              style=\"display:none;\">\n",
              "        \n",
              "  <svg xmlns=\"http://www.w3.org/2000/svg\" height=\"24px\"viewBox=\"0 0 24 24\"\n",
              "       width=\"24px\">\n",
              "    <path d=\"M0 0h24v24H0V0z\" fill=\"none\"/>\n",
              "    <path d=\"M18.56 5.44l.94 2.06.94-2.06 2.06-.94-2.06-.94-.94-2.06-.94 2.06-2.06.94zm-11 1L8.5 8.5l.94-2.06 2.06-.94-2.06-.94L8.5 2.5l-.94 2.06-2.06.94zm10 10l.94 2.06.94-2.06 2.06-.94-2.06-.94-.94-2.06-.94 2.06-2.06.94z\"/><path d=\"M17.41 7.96l-1.37-1.37c-.4-.4-.92-.59-1.43-.59-.52 0-1.04.2-1.43.59L10.3 9.45l-7.72 7.72c-.78.78-.78 2.05 0 2.83L4 21.41c.39.39.9.59 1.41.59.51 0 1.02-.2 1.41-.59l7.78-7.78 2.81-2.81c.8-.78.8-2.07 0-2.86zM5.41 20L4 18.59l7.72-7.72 1.47 1.35L5.41 20z\"/>\n",
              "  </svg>\n",
              "      </button>\n",
              "      \n",
              "  <style>\n",
              "    .colab-df-container {\n",
              "      display:flex;\n",
              "      flex-wrap:wrap;\n",
              "      gap: 12px;\n",
              "    }\n",
              "\n",
              "    .colab-df-convert {\n",
              "      background-color: #E8F0FE;\n",
              "      border: none;\n",
              "      border-radius: 50%;\n",
              "      cursor: pointer;\n",
              "      display: none;\n",
              "      fill: #1967D2;\n",
              "      height: 32px;\n",
              "      padding: 0 0 0 0;\n",
              "      width: 32px;\n",
              "    }\n",
              "\n",
              "    .colab-df-convert:hover {\n",
              "      background-color: #E2EBFA;\n",
              "      box-shadow: 0px 1px 2px rgba(60, 64, 67, 0.3), 0px 1px 3px 1px rgba(60, 64, 67, 0.15);\n",
              "      fill: #174EA6;\n",
              "    }\n",
              "\n",
              "    [theme=dark] .colab-df-convert {\n",
              "      background-color: #3B4455;\n",
              "      fill: #D2E3FC;\n",
              "    }\n",
              "\n",
              "    [theme=dark] .colab-df-convert:hover {\n",
              "      background-color: #434B5C;\n",
              "      box-shadow: 0px 1px 3px 1px rgba(0, 0, 0, 0.15);\n",
              "      filter: drop-shadow(0px 1px 2px rgba(0, 0, 0, 0.3));\n",
              "      fill: #FFFFFF;\n",
              "    }\n",
              "  </style>\n",
              "\n",
              "      <script>\n",
              "        const buttonEl =\n",
              "          document.querySelector('#df-6526f1ab-1156-4a57-a5b7-85f7d44adc6c button.colab-df-convert');\n",
              "        buttonEl.style.display =\n",
              "          google.colab.kernel.accessAllowed ? 'block' : 'none';\n",
              "\n",
              "        async function convertToInteractive(key) {\n",
              "          const element = document.querySelector('#df-6526f1ab-1156-4a57-a5b7-85f7d44adc6c');\n",
              "          const dataTable =\n",
              "            await google.colab.kernel.invokeFunction('convertToInteractive',\n",
              "                                                     [key], {});\n",
              "          if (!dataTable) return;\n",
              "\n",
              "          const docLinkHtml = 'Like what you see? Visit the ' +\n",
              "            '<a target=\"_blank\" href=https://colab.research.google.com/notebooks/data_table.ipynb>data table notebook</a>'\n",
              "            + ' to learn more about interactive tables.';\n",
              "          element.innerHTML = '';\n",
              "          dataTable['output_type'] = 'display_data';\n",
              "          await google.colab.output.renderOutput(dataTable, element);\n",
              "          const docLink = document.createElement('div');\n",
              "          docLink.innerHTML = docLinkHtml;\n",
              "          element.appendChild(docLink);\n",
              "        }\n",
              "      </script>\n",
              "    </div>\n",
              "  </div>\n",
              "  "
            ]
          },
          "metadata": {},
          "execution_count": 39
        }
      ]
    },
    {
      "cell_type": "code",
      "source": [
        "#Checking dataframe stats\n",
        "df.describe()\n",
        "#334 month records (monthly frequency at every 1st day of month as shown above)\n",
        "#max sales of 34706 goods\n",
        "#mean monthly sales of 16325 goods and median sales 15878\n",
        "#mean and median suggestive of a right skewed distribution"
      ],
      "metadata": {
        "colab": {
          "base_uri": "https://localhost:8080/",
          "height": 300
        },
        "id": "MfpZBW6JSIXn",
        "outputId": "cec01921-c8c3-4ef8-a3ca-73ac85a6dab9"
      },
      "execution_count": 40,
      "outputs": [
        {
          "output_type": "execute_result",
          "data": {
            "text/plain": [
              "              Sales\n",
              "count    334.000000\n",
              "mean   16325.095808\n",
              "std     5369.839014\n",
              "min     6938.000000\n",
              "25%    12298.500000\n",
              "50%    15878.500000\n",
              "75%    19772.500000\n",
              "max    34706.000000"
            ],
            "text/html": [
              "\n",
              "  <div id=\"df-577d087f-3b53-4f54-8464-a38d591ea96d\">\n",
              "    <div class=\"colab-df-container\">\n",
              "      <div>\n",
              "<style scoped>\n",
              "    .dataframe tbody tr th:only-of-type {\n",
              "        vertical-align: middle;\n",
              "    }\n",
              "\n",
              "    .dataframe tbody tr th {\n",
              "        vertical-align: top;\n",
              "    }\n",
              "\n",
              "    .dataframe thead th {\n",
              "        text-align: right;\n",
              "    }\n",
              "</style>\n",
              "<table border=\"1\" class=\"dataframe\">\n",
              "  <thead>\n",
              "    <tr style=\"text-align: right;\">\n",
              "      <th></th>\n",
              "      <th>Sales</th>\n",
              "    </tr>\n",
              "  </thead>\n",
              "  <tbody>\n",
              "    <tr>\n",
              "      <th>count</th>\n",
              "      <td>334.000000</td>\n",
              "    </tr>\n",
              "    <tr>\n",
              "      <th>mean</th>\n",
              "      <td>16325.095808</td>\n",
              "    </tr>\n",
              "    <tr>\n",
              "      <th>std</th>\n",
              "      <td>5369.839014</td>\n",
              "    </tr>\n",
              "    <tr>\n",
              "      <th>min</th>\n",
              "      <td>6938.000000</td>\n",
              "    </tr>\n",
              "    <tr>\n",
              "      <th>25%</th>\n",
              "      <td>12298.500000</td>\n",
              "    </tr>\n",
              "    <tr>\n",
              "      <th>50%</th>\n",
              "      <td>15878.500000</td>\n",
              "    </tr>\n",
              "    <tr>\n",
              "      <th>75%</th>\n",
              "      <td>19772.500000</td>\n",
              "    </tr>\n",
              "    <tr>\n",
              "      <th>max</th>\n",
              "      <td>34706.000000</td>\n",
              "    </tr>\n",
              "  </tbody>\n",
              "</table>\n",
              "</div>\n",
              "      <button class=\"colab-df-convert\" onclick=\"convertToInteractive('df-577d087f-3b53-4f54-8464-a38d591ea96d')\"\n",
              "              title=\"Convert this dataframe to an interactive table.\"\n",
              "              style=\"display:none;\">\n",
              "        \n",
              "  <svg xmlns=\"http://www.w3.org/2000/svg\" height=\"24px\"viewBox=\"0 0 24 24\"\n",
              "       width=\"24px\">\n",
              "    <path d=\"M0 0h24v24H0V0z\" fill=\"none\"/>\n",
              "    <path d=\"M18.56 5.44l.94 2.06.94-2.06 2.06-.94-2.06-.94-.94-2.06-.94 2.06-2.06.94zm-11 1L8.5 8.5l.94-2.06 2.06-.94-2.06-.94L8.5 2.5l-.94 2.06-2.06.94zm10 10l.94 2.06.94-2.06 2.06-.94-2.06-.94-.94-2.06-.94 2.06-2.06.94z\"/><path d=\"M17.41 7.96l-1.37-1.37c-.4-.4-.92-.59-1.43-.59-.52 0-1.04.2-1.43.59L10.3 9.45l-7.72 7.72c-.78.78-.78 2.05 0 2.83L4 21.41c.39.39.9.59 1.41.59.51 0 1.02-.2 1.41-.59l7.78-7.78 2.81-2.81c.8-.78.8-2.07 0-2.86zM5.41 20L4 18.59l7.72-7.72 1.47 1.35L5.41 20z\"/>\n",
              "  </svg>\n",
              "      </button>\n",
              "      \n",
              "  <style>\n",
              "    .colab-df-container {\n",
              "      display:flex;\n",
              "      flex-wrap:wrap;\n",
              "      gap: 12px;\n",
              "    }\n",
              "\n",
              "    .colab-df-convert {\n",
              "      background-color: #E8F0FE;\n",
              "      border: none;\n",
              "      border-radius: 50%;\n",
              "      cursor: pointer;\n",
              "      display: none;\n",
              "      fill: #1967D2;\n",
              "      height: 32px;\n",
              "      padding: 0 0 0 0;\n",
              "      width: 32px;\n",
              "    }\n",
              "\n",
              "    .colab-df-convert:hover {\n",
              "      background-color: #E2EBFA;\n",
              "      box-shadow: 0px 1px 2px rgba(60, 64, 67, 0.3), 0px 1px 3px 1px rgba(60, 64, 67, 0.15);\n",
              "      fill: #174EA6;\n",
              "    }\n",
              "\n",
              "    [theme=dark] .colab-df-convert {\n",
              "      background-color: #3B4455;\n",
              "      fill: #D2E3FC;\n",
              "    }\n",
              "\n",
              "    [theme=dark] .colab-df-convert:hover {\n",
              "      background-color: #434B5C;\n",
              "      box-shadow: 0px 1px 3px 1px rgba(0, 0, 0, 0.15);\n",
              "      filter: drop-shadow(0px 1px 2px rgba(0, 0, 0, 0.3));\n",
              "      fill: #FFFFFF;\n",
              "    }\n",
              "  </style>\n",
              "\n",
              "      <script>\n",
              "        const buttonEl =\n",
              "          document.querySelector('#df-577d087f-3b53-4f54-8464-a38d591ea96d button.colab-df-convert');\n",
              "        buttonEl.style.display =\n",
              "          google.colab.kernel.accessAllowed ? 'block' : 'none';\n",
              "\n",
              "        async function convertToInteractive(key) {\n",
              "          const element = document.querySelector('#df-577d087f-3b53-4f54-8464-a38d591ea96d');\n",
              "          const dataTable =\n",
              "            await google.colab.kernel.invokeFunction('convertToInteractive',\n",
              "                                                     [key], {});\n",
              "          if (!dataTable) return;\n",
              "\n",
              "          const docLinkHtml = 'Like what you see? Visit the ' +\n",
              "            '<a target=\"_blank\" href=https://colab.research.google.com/notebooks/data_table.ipynb>data table notebook</a>'\n",
              "            + ' to learn more about interactive tables.';\n",
              "          element.innerHTML = '';\n",
              "          dataTable['output_type'] = 'display_data';\n",
              "          await google.colab.output.renderOutput(dataTable, element);\n",
              "          const docLink = document.createElement('div');\n",
              "          docLink.innerHTML = docLinkHtml;\n",
              "          element.appendChild(docLink);\n",
              "        }\n",
              "      </script>\n",
              "    </div>\n",
              "  </div>\n",
              "  "
            ]
          },
          "metadata": {},
          "execution_count": 40
        }
      ]
    },
    {
      "cell_type": "code",
      "source": [
        "#Exploratory Analysis\n",
        "df.plot()\n",
        "#Monthly sales data\n",
        "#periodicity and seasonality in data\n",
        "#A general increasing trend of sales with kink around 2008"
      ],
      "metadata": {
        "colab": {
          "base_uri": "https://localhost:8080/",
          "height": 268
        },
        "id": "8qHb7_D5bBBj",
        "outputId": "e2d7633a-7bca-4e03-b2a7-5bd6c53fedf0"
      },
      "execution_count": 41,
      "outputs": [
        {
          "output_type": "execute_result",
          "data": {
            "text/plain": [
              "<matplotlib.axes._subplots.AxesSubplot at 0x7f7e49164550>"
            ]
          },
          "metadata": {},
          "execution_count": 41
        },
        {
          "output_type": "display_data",
          "data": {
            "text/plain": [
              "<Figure size 432x288 with 1 Axes>"
            ],
            "image/png": "[encoded data removed]"
          },
          "metadata": {
            "needs_background": "light"
          }
        }
      ]
    },
    {
      "cell_type": "code",
      "source": [
        "sns.histplot(df, bins=25)\n",
        "#Median Sales\n",
        "#Right skewed distribution"
      ],
      "metadata": {
        "colab": {
          "base_uri": "https://localhost:8080/",
          "height": 259
        },
        "id": "oP1ktoIQclc8",
        "outputId": "48b6009a-036e-478c-c5fc-53fa0a94e388"
      },
      "execution_count": 42,
      "outputs": [
        {
          "output_type": "execute_result",
          "data": {
            "text/plain": [
              "<matplotlib.axes._subplots.AxesSubplot at 0x7f7e48fce090>"
            ]
          },
          "metadata": {},
          "execution_count": 42
        },
        {
          "output_type": "display_data",
          "data": {
            "text/plain": [
              "<Figure size 432x288 with 1 Axes>"
            ],
            "image/png": "[encoded data removed]"
          },
          "metadata": {
            "needs_background": "light"
          }
        }
      ]
    },
    {
      "cell_type": "code",
      "source": [
        "\n",
        "test_ind=18;#one and a half year dataset or 18 months\n",
        "len(df)-test_ind"
      ],
      "metadata": {
        "colab": {
          "base_uri": "https://localhost:8080/"
        },
        "id": "kjKX4c_DgJFV",
        "outputId": "b6d25014-7071-4d12-a313-c0e7c175b730"
      },
      "execution_count": 43,
      "outputs": [
        {
          "output_type": "execute_result",
          "data": {
            "text/plain": [
              "316"
            ]
          },
          "metadata": {},
          "execution_count": 43
        }
      ]
    },
    {
      "cell_type": "code",
      "source": [
        "#test train split for testing\n",
        "train_data=df[:-test_ind]\n",
        "test_data=df[-test_ind:]\n",
        "len(train_data)"
      ],
      "metadata": {
        "colab": {
          "base_uri": "https://localhost:8080/"
        },
        "id": "_8l7YGu_iElO",
        "outputId": "18e498dc-f036-49d9-fa22-5c302f4a6e78"
      },
      "execution_count": 44,
      "outputs": [
        {
          "output_type": "execute_result",
          "data": {
            "text/plain": [
              "316"
            ]
          },
          "metadata": {},
          "execution_count": 44
        }
      ]
    },
    {
      "cell_type": "code",
      "source": [
        "#Data Preparation\n",
        "#Scaling Data\n",
        "from sklearn.preprocessing import MinMaxScaler\n",
        "scaler=MinMaxScaler()\n",
        "scaler.fit(train_data);\n",
        "scaled_train_data = scaler.transform(train_data);\n",
        "scaled_test_data = scaler.transform(test_data)\n",
        "\n",
        "#Sequence Generator\n",
        "seq_length=12;#From time series plot of sales above as the periodicity suggests\n",
        "#import tensorflow as tf\n",
        "from tensorflow.keras.preprocessing.sequence import TimeseriesGenerator\n",
        "train_generator=TimeseriesGenerator(scaled_train_data,scaled_train_data,length=seq_length,batch_size=1)\n",
        "validation_generator=TimeseriesGenerator(scaled_test_data,scaled_test_data,length=seq_length,batch_size=1)"
      ],
      "metadata": {
        "id": "iCjL4SdOsD1i"
      },
      "execution_count": 45,
      "outputs": []
    },
    {
      "cell_type": "code",
      "source": [
        "\n",
        "#Model Building\n",
        "n_features=1;#only one feature to predict in the sequence\n",
        "hidden_state=100;# LSTM hidden states\n",
        "from tensorflow.keras.models import Sequential\n",
        "from tensorflow.keras.layers import LSTM,Dense\n",
        "model=Sequential();\n",
        "model.add(LSTM(hidden_state,activation='relu',input_shape=(seq_length,n_features)));\n",
        "model.add(Dense(1))\n",
        "model.compile(optimizer='adam',loss='mse')\n",
        "model.summary()"
      ],
      "metadata": {
        "colab": {
          "base_uri": "https://localhost:8080/"
        },
        "id": "LB7GIMWcxKHc",
        "outputId": "5e71ee66-77ae-4338-fc7e-04081d2b7990"
      },
      "execution_count": 46,
      "outputs": [
        {
          "output_type": "stream",
          "name": "stdout",
          "text": [
            "Model: \"sequential_2\"\n",
            "_________________________________________________________________\n",
            " Layer (type)                Output Shape              Param #   \n",
            "=================================================================\n",
            " lstm_2 (LSTM)               (None, 100)               40800     \n",
            "                                                                 \n",
            " dense_2 (Dense)             (None, 1)                 101       \n",
            "                                                                 \n",
            "=================================================================\n",
            "Total params: 40,901\n",
            "Trainable params: 40,901\n",
            "Non-trainable params: 0\n",
            "_________________________________________________________________\n"
          ]
        }
      ]
    },
    {
      "cell_type": "code",
      "source": [
        "\n",
        "#Early Stopping for regularization to prevent over and underfitting\n",
        "from tensorflow.keras.callbacks import EarlyStopping\n",
        "early_stop=EarlyStopping(monitor='val_loss',patience=2)"
      ],
      "metadata": {
        "id": "KGDZPwT6xqnM"
      },
      "execution_count": 47,
      "outputs": []
    },
    {
      "cell_type": "code",
      "source": [
        "#Model Fitting \n",
        "model.fit(train_generator,epochs=20,validation_data=validation_generator,callbacks=[early_stop])"
      ],
      "metadata": {
        "colab": {
          "base_uri": "https://localhost:8080/"
        },
        "id": "jdkPT2SZ1DuH",
        "outputId": "0fc9b1b9-29a8-4cd1-8807-7599eb02111d"
      },
      "execution_count": 48,
      "outputs": [
        {
          "output_type": "stream",
          "name": "stdout",
          "text": [
            "Epoch 1/20\n",
            "304/304 [==============================] - 4s 8ms/step - loss: 0.0249 - val_loss: 0.0069\n",
            "Epoch 2/20\n",
            "304/304 [==============================] - 2s 8ms/step - loss: 0.0178 - val_loss: 0.0022\n",
            "Epoch 3/20\n",
            "304/304 [==============================] - 2s 8ms/step - loss: 0.0103 - val_loss: 0.0021\n",
            "Epoch 4/20\n",
            "304/304 [==============================] - 3s 9ms/step - loss: 0.0048 - val_loss: 0.0160\n",
            "Epoch 5/20\n",
            "304/304 [==============================] - 4s 12ms/step - loss: 0.0051 - val_loss: 5.9322e-04\n",
            "Epoch 6/20\n",
            "304/304 [==============================] - 2s 8ms/step - loss: 0.0018 - val_loss: 3.0007e-04\n",
            "Epoch 7/20\n",
            "304/304 [==============================] - 2s 8ms/step - loss: 0.0015 - val_loss: 0.0033\n",
            "Epoch 8/20\n",
            "304/304 [==============================] - 2s 8ms/step - loss: 0.0013 - val_loss: 2.8709e-04\n",
            "Epoch 9/20\n",
            "304/304 [==============================] - 2s 8ms/step - loss: 0.0017 - val_loss: 0.0047\n",
            "Epoch 10/20\n",
            "304/304 [==============================] - 2s 7ms/step - loss: 0.0015 - val_loss: 2.0255e-04\n",
            "Epoch 11/20\n",
            "304/304 [==============================] - 2s 8ms/step - loss: 0.0014 - val_loss: 0.0020\n",
            "Epoch 12/20\n",
            "304/304 [==============================] - 2s 7ms/step - loss: 0.0012 - val_loss: 0.0025\n"
          ]
        },
        {
          "output_type": "execute_result",
          "data": {
            "text/plain": [
              "<keras.callbacks.History at 0x7f7e48e786d0>"
            ]
          },
          "metadata": {},
          "execution_count": 48
        }
      ]
    },
    {
      "cell_type": "code",
      "source": [
        "\n",
        "#Loss plot\n",
        "losses=pd.DataFrame(model.history.history)\n",
        "losses.columns"
      ],
      "metadata": {
        "colab": {
          "base_uri": "https://localhost:8080/"
        },
        "id": "q3ocTop42FGW",
        "outputId": "5bcfe17c-fd48-4105-9eb1-ca639fbf5be7"
      },
      "execution_count": 49,
      "outputs": [
        {
          "output_type": "execute_result",
          "data": {
            "text/plain": [
              "Index(['loss', 'val_loss'], dtype='object')"
            ]
          },
          "metadata": {},
          "execution_count": 49
        }
      ]
    },
    {
      "cell_type": "code",
      "source": [
        "losses.plot()"
      ],
      "metadata": {
        "colab": {
          "base_uri": "https://localhost:8080/",
          "height": 260
        },
        "id": "rbOUfY3U2ip3",
        "outputId": "905a7999-c804-419a-91ad-645608a6bba9"
      },
      "execution_count": 50,
      "outputs": [
        {
          "output_type": "execute_result",
          "data": {
            "text/plain": [
              "<matplotlib.axes._subplots.AxesSubplot at 0x7f7e48bb2f50>"
            ]
          },
          "metadata": {},
          "execution_count": 50
        },
        {
          "output_type": "display_data",
          "data": {
            "text/plain": [
              "<Figure size 432x288 with 1 Axes>"
            ],
            "image/png": "[encoded data removed]"
          },
          "metadata": {
            "needs_background": "light"
          }
        }
      ]
    },
    {
      "cell_type": "code",
      "source": [
        "#Data Prediction\n",
        "test_pred=[]#to store predictions\n",
        "first_batch= scaled_train_data[-seq_length:];\n",
        "current_batch = first_batch.reshape((1,seq_length,n_features))\n",
        "for i in range(test_ind):\n",
        "    current_pred = model.predict(current_batch);\n",
        "    test_pred.append(current_pred[0])\n",
        "    current_batch=np.append(current_batch[:,1:,:],[[current_pred[0]]],axis=1)\n",
        "#Data Predictions\n",
        "predictions=scaler.inverse_transform(test_pred)"
      ],
      "metadata": {
        "id": "S1StVTw72nfb"
      },
      "execution_count": 51,
      "outputs": []
    },
    {
      "cell_type": "code",
      "source": [
        "test_data['Predictions']=predictions;\n",
        "test_data.plot()\n",
        "#Sales Predictions remain a bit erroneous over the actual"
      ],
      "metadata": {
        "colab": {
          "base_uri": "https://localhost:8080/",
          "height": 399
        },
        "id": "CrZ5Qthv8KJb",
        "outputId": "ed63452b-fccb-43c0-8fc9-e77f356bde3a"
      },
      "execution_count": 52,
      "outputs": [
        {
          "output_type": "stream",
          "name": "stderr",
          "text": [
            "/usr/local/lib/python3.7/dist-packages/ipykernel_launcher.py:1: SettingWithCopyWarning: \n",
            "A value is trying to be set on a copy of a slice from a DataFrame.\n",
            "Try using .loc[row_indexer,col_indexer] = value instead\n",
            "\n",
            "See the caveats in the documentation: https://pandas.pydata.org/pandas-docs/stable/user_guide/indexing.html#returning-a-view-versus-a-copy\n",
            "  \"\"\"Entry point for launching an IPython kernel.\n"
          ]
        },
        {
          "output_type": "execute_result",
          "data": {
            "text/plain": [
              "<matplotlib.axes._subplots.AxesSubplot at 0x7f7e48baad50>"
            ]
          },
          "metadata": {},
          "execution_count": 52
        },
        {
          "output_type": "display_data",
          "data": {
            "text/plain": [
              "<Figure size 432x288 with 1 Axes>"
            ],
            "image/png": "[encoded data removed]"
          },
          "metadata": {
            "needs_background": "light"
          }
        }
      ]
    },
    {
      "cell_type": "code",
      "source": [
        "#RMSE\n",
        "mse=(1/len(test_data))*np.sum((test_data['Sales']-test_data['Predictions'])**2)\n",
        "RMSE=np.sqrt(mse)\n",
        "print('RMSE for predictions=',RMSE,'units \\nRange of sales data between 6938 and 34706 units min and max sales')\n",
        "print('Percentage RMSE error with respect to minimum sales\\n:',100*RMSE/6938,'%')\n",
        "#Error seems more or less tolerable under 15 % limit"
      ],
      "metadata": {
        "colab": {
          "base_uri": "https://localhost:8080/"
        },
        "id": "o5E10pWdIYyf",
        "outputId": "2287b61f-c728-4cff-b792-4a20766aa8cf"
      },
      "execution_count": 70,
      "outputs": [
        {
          "output_type": "stream",
          "name": "stdout",
          "text": [
            "RMSE for predictions= 956.1928168743965 units \n",
            "Range of sales data between 6938 and 34706 units min and max sales\n",
            "Percentage RMSE error with respect to minimum sales\n",
            ": 13.78196622765057 %\n"
          ]
        }
      ]
    },
    {
      "cell_type": "markdown",
      "source": [
        "# Forecasting Sales"
      ],
      "metadata": {
        "id": "drSP2EKpBlXh"
      }
    },
    {
      "cell_type": "code",
      "source": [
        "#Sales Forecast\n",
        "fperiod = 12;\n",
        "#Scaling and Normalization \n",
        "full_scaler=MinMaxScaler()\n",
        "full_scaler.fit(df)\n",
        "scaled_df=full_scaler.transform(df)\n",
        "#forecast sequence generator using full data\n",
        "fgenerator=TimeseriesGenerator(scaled_df,scaled_df,seq_length,batch_size=1)\n",
        "#Forecast Model Build\n",
        "hidden_state=100;\n",
        "fmodel=Sequential()\n",
        "fmodel.add(LSTM(hidden_state,activation='relu',input_shape=(seq_length,n_features)))\n",
        "fmodel.add(Dense(1))\n",
        "fmodel.compile(optimizer='adam',loss='mse')\n",
        "fmodel.summary()"
      ],
      "metadata": {
        "colab": {
          "base_uri": "https://localhost:8080/"
        },
        "id": "pQKUWAk3_6B2",
        "outputId": "bcf7ce30-8235-456e-cd6b-a9c92e7b0c3b"
      },
      "execution_count": 54,
      "outputs": [
        {
          "output_type": "stream",
          "name": "stdout",
          "text": [
            "Model: \"sequential_3\"\n",
            "_________________________________________________________________\n",
            " Layer (type)                Output Shape              Param #   \n",
            "=================================================================\n",
            " lstm_3 (LSTM)               (None, 100)               40800     \n",
            "                                                                 \n",
            " dense_3 (Dense)             (None, 1)                 101       \n",
            "                                                                 \n",
            "=================================================================\n",
            "Total params: 40,901\n",
            "Trainable params: 40,901\n",
            "Non-trainable params: 0\n",
            "_________________________________________________________________\n"
          ]
        }
      ]
    },
    {
      "cell_type": "code",
      "source": [
        "fmodel.fit_generator(fgenerator,epochs=8)"
      ],
      "metadata": {
        "colab": {
          "base_uri": "https://localhost:8080/"
        },
        "id": "jqdQQlRBE81i",
        "outputId": "e67981ff-6aae-480a-c507-7cc9b1218e3f"
      },
      "execution_count": 55,
      "outputs": [
        {
          "output_type": "stream",
          "name": "stdout",
          "text": [
            "Epoch 1/8\n"
          ]
        },
        {
          "output_type": "stream",
          "name": "stderr",
          "text": [
            "/usr/local/lib/python3.7/dist-packages/ipykernel_launcher.py:1: UserWarning: `Model.fit_generator` is deprecated and will be removed in a future version. Please use `Model.fit`, which supports generators.\n",
            "  \"\"\"Entry point for launching an IPython kernel.\n"
          ]
        },
        {
          "output_type": "stream",
          "name": "stdout",
          "text": [
            "322/322 [==============================] - 4s 8ms/step - loss: 0.0269\n",
            "Epoch 2/8\n",
            "322/322 [==============================] - 3s 8ms/step - loss: 0.0172\n",
            "Epoch 3/8\n",
            "322/322 [==============================] - 3s 8ms/step - loss: 0.0100\n",
            "Epoch 4/8\n",
            "322/322 [==============================] - 3s 8ms/step - loss: 0.0044\n",
            "Epoch 5/8\n",
            "322/322 [==============================] - 3s 8ms/step - loss: 0.0027\n",
            "Epoch 6/8\n",
            "322/322 [==============================] - 3s 8ms/step - loss: 0.0022\n",
            "Epoch 7/8\n",
            "322/322 [==============================] - 2s 7ms/step - loss: 0.0018\n",
            "Epoch 8/8\n",
            "322/322 [==============================] - 3s 8ms/step - loss: 0.0014\n"
          ]
        },
        {
          "output_type": "execute_result",
          "data": {
            "text/plain": [
              "<keras.callbacks.History at 0x7f7e445dd5d0>"
            ]
          },
          "metadata": {},
          "execution_count": 55
        }
      ]
    },
    {
      "cell_type": "code",
      "source": [
        "#Data Prediction\n",
        "test_pred=[]#to store predictions\n",
        "first_batch= scaled_df[-seq_length:];\n",
        "current_batch = first_batch.reshape((1,seq_length,n_features))\n",
        "for i in range(fperiod):#iteration over forecast period\n",
        "    current_pred = model.predict(current_batch);\n",
        "    test_pred.append(current_pred[0])\n",
        "    current_batch=np.append(current_batch[:,1:,:],[[current_pred[0]]],axis=1)\n",
        "#Data Predictions\n",
        "forecast=scaler.inverse_transform(test_pred)"
      ],
      "metadata": {
        "id": "GXiQlcrPF4ys"
      },
      "execution_count": 56,
      "outputs": []
    },
    {
      "cell_type": "code",
      "source": [
        "forecast.transpose()"
      ],
      "metadata": {
        "colab": {
          "base_uri": "https://localhost:8080/"
        },
        "id": "bguj-su9HS5e",
        "outputId": "826189e3-676d-43fa-a78d-d1c57deb3dfe"
      },
      "execution_count": 57,
      "outputs": [
        {
          "output_type": "execute_result",
          "data": {
            "text/plain": [
              "array([[26787.04886484, 36463.76668072, 17168.54094887, 19136.95855761,\n",
              "        22893.642869  , 22490.21884251, 24095.01666164, 22137.30326509,\n",
              "        22736.74243116, 24644.91436958, 20920.95835114, 22219.41376638]])"
            ]
          },
          "metadata": {},
          "execution_count": 57
        }
      ]
    },
    {
      "cell_type": "code",
      "source": [
        "df[-1:]\n",
        "#Date of last update required for forecast period index"
      ],
      "metadata": {
        "colab": {
          "base_uri": "https://localhost:8080/",
          "height": 112
        },
        "id": "zqDSPZL8Hvmj",
        "outputId": "4b5ee5e3-b308-48d0-9e69-e531e1d84872"
      },
      "execution_count": 58,
      "outputs": [
        {
          "output_type": "execute_result",
          "data": {
            "text/plain": [
              "            Sales\n",
              "DATE             \n",
              "2019-10-01  21113"
            ],
            "text/html": [
              "\n",
              "  <div id=\"df-eb178fe9-993f-49a8-9820-9821e55bb301\">\n",
              "    <div class=\"colab-df-container\">\n",
              "      <div>\n",
              "<style scoped>\n",
              "    .dataframe tbody tr th:only-of-type {\n",
              "        vertical-align: middle;\n",
              "    }\n",
              "\n",
              "    .dataframe tbody tr th {\n",
              "        vertical-align: top;\n",
              "    }\n",
              "\n",
              "    .dataframe thead th {\n",
              "        text-align: right;\n",
              "    }\n",
              "</style>\n",
              "<table border=\"1\" class=\"dataframe\">\n",
              "  <thead>\n",
              "    <tr style=\"text-align: right;\">\n",
              "      <th></th>\n",
              "      <th>Sales</th>\n",
              "    </tr>\n",
              "    <tr>\n",
              "      <th>DATE</th>\n",
              "      <th></th>\n",
              "    </tr>\n",
              "  </thead>\n",
              "  <tbody>\n",
              "    <tr>\n",
              "      <th>2019-10-01</th>\n",
              "      <td>21113</td>\n",
              "    </tr>\n",
              "  </tbody>\n",
              "</table>\n",
              "</div>\n",
              "      <button class=\"colab-df-convert\" onclick=\"convertToInteractive('df-eb178fe9-993f-49a8-9820-9821e55bb301')\"\n",
              "              title=\"Convert this dataframe to an interactive table.\"\n",
              "              style=\"display:none;\">\n",
              "        \n",
              "  <svg xmlns=\"http://www.w3.org/2000/svg\" height=\"24px\"viewBox=\"0 0 24 24\"\n",
              "       width=\"24px\">\n",
              "    <path d=\"M0 0h24v24H0V0z\" fill=\"none\"/>\n",
              "    <path d=\"M18.56 5.44l.94 2.06.94-2.06 2.06-.94-2.06-.94-.94-2.06-.94 2.06-2.06.94zm-11 1L8.5 8.5l.94-2.06 2.06-.94-2.06-.94L8.5 2.5l-.94 2.06-2.06.94zm10 10l.94 2.06.94-2.06 2.06-.94-2.06-.94-.94-2.06-.94 2.06-2.06.94z\"/><path d=\"M17.41 7.96l-1.37-1.37c-.4-.4-.92-.59-1.43-.59-.52 0-1.04.2-1.43.59L10.3 9.45l-7.72 7.72c-.78.78-.78 2.05 0 2.83L4 21.41c.39.39.9.59 1.41.59.51 0 1.02-.2 1.41-.59l7.78-7.78 2.81-2.81c.8-.78.8-2.07 0-2.86zM5.41 20L4 18.59l7.72-7.72 1.47 1.35L5.41 20z\"/>\n",
              "  </svg>\n",
              "      </button>\n",
              "      \n",
              "  <style>\n",
              "    .colab-df-container {\n",
              "      display:flex;\n",
              "      flex-wrap:wrap;\n",
              "      gap: 12px;\n",
              "    }\n",
              "\n",
              "    .colab-df-convert {\n",
              "      background-color: #E8F0FE;\n",
              "      border: none;\n",
              "      border-radius: 50%;\n",
              "      cursor: pointer;\n",
              "      display: none;\n",
              "      fill: #1967D2;\n",
              "      height: 32px;\n",
              "      padding: 0 0 0 0;\n",
              "      width: 32px;\n",
              "    }\n",
              "\n",
              "    .colab-df-convert:hover {\n",
              "      background-color: #E2EBFA;\n",
              "      box-shadow: 0px 1px 2px rgba(60, 64, 67, 0.3), 0px 1px 3px 1px rgba(60, 64, 67, 0.15);\n",
              "      fill: #174EA6;\n",
              "    }\n",
              "\n",
              "    [theme=dark] .colab-df-convert {\n",
              "      background-color: #3B4455;\n",
              "      fill: #D2E3FC;\n",
              "    }\n",
              "\n",
              "    [theme=dark] .colab-df-convert:hover {\n",
              "      background-color: #434B5C;\n",
              "      box-shadow: 0px 1px 3px 1px rgba(0, 0, 0, 0.15);\n",
              "      filter: drop-shadow(0px 1px 2px rgba(0, 0, 0, 0.3));\n",
              "      fill: #FFFFFF;\n",
              "    }\n",
              "  </style>\n",
              "\n",
              "      <script>\n",
              "        const buttonEl =\n",
              "          document.querySelector('#df-eb178fe9-993f-49a8-9820-9821e55bb301 button.colab-df-convert');\n",
              "        buttonEl.style.display =\n",
              "          google.colab.kernel.accessAllowed ? 'block' : 'none';\n",
              "\n",
              "        async function convertToInteractive(key) {\n",
              "          const element = document.querySelector('#df-eb178fe9-993f-49a8-9820-9821e55bb301');\n",
              "          const dataTable =\n",
              "            await google.colab.kernel.invokeFunction('convertToInteractive',\n",
              "                                                     [key], {});\n",
              "          if (!dataTable) return;\n",
              "\n",
              "          const docLinkHtml = 'Like what you see? Visit the ' +\n",
              "            '<a target=\"_blank\" href=https://colab.research.google.com/notebooks/data_table.ipynb>data table notebook</a>'\n",
              "            + ' to learn more about interactive tables.';\n",
              "          element.innerHTML = '';\n",
              "          dataTable['output_type'] = 'display_data';\n",
              "          await google.colab.output.renderOutput(dataTable, element);\n",
              "          const docLink = document.createElement('div');\n",
              "          docLink.innerHTML = docLinkHtml;\n",
              "          element.appendChild(docLink);\n",
              "        }\n",
              "      </script>\n",
              "    </div>\n",
              "  </div>\n",
              "  "
            ]
          },
          "metadata": {},
          "execution_count": 58
        }
      ]
    },
    {
      "cell_type": "code",
      "source": [
        "forecast_period=pd.date_range(start='2019-11-01',periods=fperiod,freq='MS')\n",
        "forecast_period"
      ],
      "metadata": {
        "colab": {
          "base_uri": "https://localhost:8080/"
        },
        "id": "QN5if7vTH_8h",
        "outputId": "4d2e4e24-1083-482c-ab89-5d2b2794e86a"
      },
      "execution_count": 59,
      "outputs": [
        {
          "output_type": "execute_result",
          "data": {
            "text/plain": [
              "DatetimeIndex(['2019-11-01', '2019-12-01', '2020-01-01', '2020-02-01',\n",
              "               '2020-03-01', '2020-04-01', '2020-05-01', '2020-06-01',\n",
              "               '2020-07-01', '2020-08-01', '2020-09-01', '2020-10-01'],\n",
              "              dtype='datetime64[ns]', freq='MS')"
            ]
          },
          "metadata": {},
          "execution_count": 59
        }
      ]
    },
    {
      "cell_type": "code",
      "source": [
        "forecast_df=pd.DataFrame(data=forecast,index=forecast_period,columns=['Sales Forecast'])\n",
        "forecast_df.plot()"
      ],
      "metadata": {
        "colab": {
          "base_uri": "https://localhost:8080/",
          "height": 264
        },
        "id": "gWR8YoBvIyYK",
        "outputId": "e4414d4d-d18b-4a76-8865-af840f9464df"
      },
      "execution_count": 60,
      "outputs": [
        {
          "output_type": "execute_result",
          "data": {
            "text/plain": [
              "<matplotlib.axes._subplots.AxesSubplot at 0x7f7e4745d6d0>"
            ]
          },
          "metadata": {},
          "execution_count": 60
        },
        {
          "output_type": "display_data",
          "data": {
            "text/plain": [
              "<Figure size 432x288 with 1 Axes>"
            ],
            "image/png": "[encoded data removed]"
          },
          "metadata": {
            "needs_background": "light"
          }
        }
      ]
    },
    {
      "cell_type": "code",
      "source": [
        "ax=df.plot()\n",
        "forecast_df.plot(ax=ax)\n",
        "#probable general trend identification thus, taking the 2008 kink into account"
      ],
      "metadata": {
        "colab": {
          "base_uri": "https://localhost:8080/",
          "height": 270
        },
        "id": "H8l2bQgdLGdf",
        "outputId": "5628e5fd-188d-4ccc-84be-ee609d779276"
      },
      "execution_count": 61,
      "outputs": [
        {
          "output_type": "execute_result",
          "data": {
            "text/plain": [
              "<matplotlib.axes._subplots.AxesSubplot at 0x7f7e47488850>"
            ]
          },
          "metadata": {},
          "execution_count": 61
        },
        {
          "output_type": "display_data",
          "data": {
            "text/plain": [
              "<Figure size 432x288 with 1 Axes>"
            ],
            "image/png": "[encoded data removed]"
          },
          "metadata": {
            "needs_background": "light"
          }
        }
      ]
    },
    {
      "cell_type": "code",
      "source": [
        ""
      ],
      "metadata": {
        "id": "mp-94F3-MAC0"
      },
      "execution_count": 61,
      "outputs": []
    }
  ]
}