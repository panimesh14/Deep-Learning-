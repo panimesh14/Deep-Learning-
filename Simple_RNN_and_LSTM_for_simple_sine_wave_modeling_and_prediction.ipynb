{
  "cells": [
    {
      "cell_type": "markdown",
      "metadata": {
        "id": "view-in-github",
        "colab_type": "text"
      },
      "source": [
        "<a href=\"https://colab.research.google.com/github/panimesh14/Deep-Learning-/blob/main/Simple_RNN_and_LSTM_for_simple_sine_wave_modeling_and_prediction.ipynb\" target=\"_parent\"><img src=\"https://colab.research.google.com/assets/colab-badge.svg\" alt=\"Open In Colab\"/></a>"
      ]
    },
    {
      "cell_type": "markdown",
      "metadata": {
        "id": "b3XffIFT-Lgi"
      },
      "source": [
        "# Signal/Sine wave generation using Simple RNN and LSTM"
      ]
    },
    {
      "cell_type": "code",
      "execution_count": 139,
      "metadata": {
        "id": "5YOWZcXE-Lgz"
      },
      "outputs": [],
      "source": [
        "import pandas as pd\n",
        "import numpy as np\n",
        "%matplotlib inline\n",
        "import matplotlib.pyplot as plt"
      ]
    },
    {
      "cell_type": "markdown",
      "metadata": {
        "id": "WrOiHPQu-Lg3"
      },
      "source": [
        "## Data Generation-Sine Wave Generation"
      ]
    },
    {
      "cell_type": "code",
      "execution_count": 140,
      "metadata": {
        "id": "R8eoH1e4-Lg5"
      },
      "outputs": [],
      "source": [
        "x = np.linspace(0,50,501)#Index Variable\n",
        "y = np.sin(x)#sine wave frequency around 62.5 Hz"
      ]
    },
    {
      "cell_type": "code",
      "execution_count": 141,
      "metadata": {
        "colab": {
          "base_uri": "https://localhost:8080/",
          "height": 282
        },
        "id": "sFkYORnZ-LhB",
        "outputId": "cf55f54d-14a1-477a-a68f-76216095f17a"
      },
      "outputs": [
        {
          "output_type": "execute_result",
          "data": {
            "text/plain": [
              "[<matplotlib.lines.Line2D at 0x7f494845fc50>]"
            ]
          },
          "metadata": {},
          "execution_count": 141
        },
        {
          "output_type": "display_data",
          "data": {
            "text/plain": [
              "<Figure size 432x288 with 1 Axes>"
            ],
            "image/png": "[encoded data removed]"
          },
          "metadata": {
            "needs_background": "light"
          }
        }
      ],
      "source": [
        "plt.plot(x,y)#sine wave plot"
      ]
    },
    {
      "cell_type": "markdown",
      "metadata": {
        "id": "KY5Mg90G-LhE"
      },
      "source": [
        "Let's turn this into a DataFrame"
      ]
    },
    {
      "cell_type": "code",
      "execution_count": 142,
      "metadata": {
        "id": "0vo8GYeH-LhH"
      },
      "outputs": [],
      "source": [
        "df = pd.DataFrame(data=y,index=x,columns=['Sine'])"
      ]
    },
    {
      "cell_type": "code",
      "execution_count": 143,
      "metadata": {
        "colab": {
          "base_uri": "https://localhost:8080/",
          "height": 424
        },
        "id": "5gHtBv-T-LhJ",
        "outputId": "2aa491d9-99e4-40ef-dc8e-5f1e108a56ad"
      },
      "outputs": [
        {
          "output_type": "execute_result",
          "data": {
            "text/plain": [
              "          Sine\n",
              "0.0   0.000000\n",
              "0.1   0.099833\n",
              "0.2   0.198669\n",
              "0.3   0.295520\n",
              "0.4   0.389418\n",
              "...        ...\n",
              "49.6 -0.617439\n",
              "49.7 -0.535823\n",
              "49.8 -0.448854\n",
              "49.9 -0.357400\n",
              "50.0 -0.262375\n",
              "\n",
              "[501 rows x 1 columns]"
            ],
            "text/html": [
              "\n",
              "  <div id=\"df-89063b75-6641-4eec-861d-35d395e74642\">\n",
              "    <div class=\"colab-df-container\">\n",
              "      <div>\n",
              "<style scoped>\n",
              "    .dataframe tbody tr th:only-of-type {\n",
              "        vertical-align: middle;\n",
              "    }\n",
              "\n",
              "    .dataframe tbody tr th {\n",
              "        vertical-align: top;\n",
              "    }\n",
              "\n",
              "    .dataframe thead th {\n",
              "        text-align: right;\n",
              "    }\n",
              "</style>\n",
              "<table border=\"1\" class=\"dataframe\">\n",
              "  <thead>\n",
              "    <tr style=\"text-align: right;\">\n",
              "      <th></th>\n",
              "      <th>Sine</th>\n",
              "    </tr>\n",
              "  </thead>\n",
              "  <tbody>\n",
              "    <tr>\n",
              "      <th>0.0</th>\n",
              "      <td>0.000000</td>\n",
              "    </tr>\n",
              "    <tr>\n",
              "      <th>0.1</th>\n",
              "      <td>0.099833</td>\n",
              "    </tr>\n",
              "    <tr>\n",
              "      <th>0.2</th>\n",
              "      <td>0.198669</td>\n",
              "    </tr>\n",
              "    <tr>\n",
              "      <th>0.3</th>\n",
              "      <td>0.295520</td>\n",
              "    </tr>\n",
              "    <tr>\n",
              "      <th>0.4</th>\n",
              "      <td>0.389418</td>\n",
              "    </tr>\n",
              "    <tr>\n",
              "      <th>...</th>\n",
              "      <td>...</td>\n",
              "    </tr>\n",
              "    <tr>\n",
              "      <th>49.6</th>\n",
              "      <td>-0.617439</td>\n",
              "    </tr>\n",
              "    <tr>\n",
              "      <th>49.7</th>\n",
              "      <td>-0.535823</td>\n",
              "    </tr>\n",
              "    <tr>\n",
              "      <th>49.8</th>\n",
              "      <td>-0.448854</td>\n",
              "    </tr>\n",
              "    <tr>\n",
              "      <th>49.9</th>\n",
              "      <td>-0.357400</td>\n",
              "    </tr>\n",
              "    <tr>\n",
              "      <th>50.0</th>\n",
              "      <td>-0.262375</td>\n",
              "    </tr>\n",
              "  </tbody>\n",
              "</table>\n",
              "<p>501 rows × 1 columns</p>\n",
              "</div>\n",
              "      <button class=\"colab-df-convert\" onclick=\"convertToInteractive('df-89063b75-6641-4eec-861d-35d395e74642')\"\n",
              "              title=\"Convert this dataframe to an interactive table.\"\n",
              "              style=\"display:none;\">\n",
              "        \n",
              "  <svg xmlns=\"http://www.w3.org/2000/svg\" height=\"24px\"viewBox=\"0 0 24 24\"\n",
              "       width=\"24px\">\n",
              "    <path d=\"M0 0h24v24H0V0z\" fill=\"none\"/>\n",
              "    <path d=\"M18.56 5.44l.94 2.06.94-2.06 2.06-.94-2.06-.94-.94-2.06-.94 2.06-2.06.94zm-11 1L8.5 8.5l.94-2.06 2.06-.94-2.06-.94L8.5 2.5l-.94 2.06-2.06.94zm10 10l.94 2.06.94-2.06 2.06-.94-2.06-.94-.94-2.06-.94 2.06-2.06.94z\"/><path d=\"M17.41 7.96l-1.37-1.37c-.4-.4-.92-.59-1.43-.59-.52 0-1.04.2-1.43.59L10.3 9.45l-7.72 7.72c-.78.78-.78 2.05 0 2.83L4 21.41c.39.39.9.59 1.41.59.51 0 1.02-.2 1.41-.59l7.78-7.78 2.81-2.81c.8-.78.8-2.07 0-2.86zM5.41 20L4 18.59l7.72-7.72 1.47 1.35L5.41 20z\"/>\n",
              "  </svg>\n",
              "      </button>\n",
              "      \n",
              "  <style>\n",
              "    .colab-df-container {\n",
              "      display:flex;\n",
              "      flex-wrap:wrap;\n",
              "      gap: 12px;\n",
              "    }\n",
              "\n",
              "    .colab-df-convert {\n",
              "      background-color: #E8F0FE;\n",
              "      border: none;\n",
              "      border-radius: 50%;\n",
              "      cursor: pointer;\n",
              "      display: none;\n",
              "      fill: #1967D2;\n",
              "      height: 32px;\n",
              "      padding: 0 0 0 0;\n",
              "      width: 32px;\n",
              "    }\n",
              "\n",
              "    .colab-df-convert:hover {\n",
              "      background-color: #E2EBFA;\n",
              "      box-shadow: 0px 1px 2px rgba(60, 64, 67, 0.3), 0px 1px 3px 1px rgba(60, 64, 67, 0.15);\n",
              "      fill: #174EA6;\n",
              "    }\n",
              "\n",
              "    [theme=dark] .colab-df-convert {\n",
              "      background-color: #3B4455;\n",
              "      fill: #D2E3FC;\n",
              "    }\n",
              "\n",
              "    [theme=dark] .colab-df-convert:hover {\n",
              "      background-color: #434B5C;\n",
              "      box-shadow: 0px 1px 3px 1px rgba(0, 0, 0, 0.15);\n",
              "      filter: drop-shadow(0px 1px 2px rgba(0, 0, 0, 0.3));\n",
              "      fill: #FFFFFF;\n",
              "    }\n",
              "  </style>\n",
              "\n",
              "      <script>\n",
              "        const buttonEl =\n",
              "          document.querySelector('#df-89063b75-6641-4eec-861d-35d395e74642 button.colab-df-convert');\n",
              "        buttonEl.style.display =\n",
              "          google.colab.kernel.accessAllowed ? 'block' : 'none';\n",
              "\n",
              "        async function convertToInteractive(key) {\n",
              "          const element = document.querySelector('#df-89063b75-6641-4eec-861d-35d395e74642');\n",
              "          const dataTable =\n",
              "            await google.colab.kernel.invokeFunction('convertToInteractive',\n",
              "                                                     [key], {});\n",
              "          if (!dataTable) return;\n",
              "\n",
              "          const docLinkHtml = 'Like what you see? Visit the ' +\n",
              "            '<a target=\"_blank\" href=https://colab.research.google.com/notebooks/data_table.ipynb>data table notebook</a>'\n",
              "            + ' to learn more about interactive tables.';\n",
              "          element.innerHTML = '';\n",
              "          dataTable['output_type'] = 'display_data';\n",
              "          await google.colab.output.renderOutput(dataTable, element);\n",
              "          const docLink = document.createElement('div');\n",
              "          docLink.innerHTML = docLinkHtml;\n",
              "          element.appendChild(docLink);\n",
              "        }\n",
              "      </script>\n",
              "    </div>\n",
              "  </div>\n",
              "  "
            ]
          },
          "metadata": {},
          "execution_count": 143
        }
      ],
      "source": [
        "df"
      ]
    },
    {
      "cell_type": "markdown",
      "metadata": {
        "id": "XH_xUl19-LhL"
      },
      "source": [
        "## Splitting Dataset for checking"
      ]
    },
    {
      "cell_type": "code",
      "execution_count": 144,
      "metadata": {
        "colab": {
          "base_uri": "https://localhost:8080/"
        },
        "id": "10JnmnT_-LhN",
        "outputId": "aae73958-a418-4650-a55a-584ce77eafe6"
      },
      "outputs": [
        {
          "output_type": "execute_result",
          "data": {
            "text/plain": [
              "501"
            ]
          },
          "metadata": {},
          "execution_count": 144
        }
      ],
      "source": [
        "len(df)"
      ]
    },
    {
      "cell_type": "code",
      "execution_count": 145,
      "metadata": {
        "id": "126pVWRb-LhP"
      },
      "outputs": [],
      "source": [
        "test_percent = 0.1 #taking 10% of data as test data"
      ]
    },
    {
      "cell_type": "code",
      "execution_count": 146,
      "metadata": {
        "colab": {
          "base_uri": "https://localhost:8080/"
        },
        "id": "BUJKmXiQ-LhR",
        "outputId": "c2586ce1-2cac-4d0c-c478-976422600e3c"
      },
      "outputs": [
        {
          "output_type": "execute_result",
          "data": {
            "text/plain": [
              "50.1"
            ]
          },
          "metadata": {},
          "execution_count": 146
        }
      ],
      "source": [
        "len(df)*test_percent"
      ]
    },
    {
      "cell_type": "code",
      "execution_count": 147,
      "metadata": {
        "id": "faXd4NdD-LhS"
      },
      "outputs": [],
      "source": [
        "test_point = np.round(len(df)*test_percent)"
      ]
    },
    {
      "cell_type": "code",
      "execution_count": 148,
      "metadata": {
        "id": "bc0m7XkS-LhT"
      },
      "outputs": [],
      "source": [
        "test_ind = int(len(df) - test_point)#index of cut-off point"
      ]
    },
    {
      "cell_type": "code",
      "execution_count": 149,
      "metadata": {
        "colab": {
          "base_uri": "https://localhost:8080/"
        },
        "id": "R0it5KTy-LhU",
        "outputId": "abef9c8d-c3c6-4b0f-b087-76b02fdb1b13"
      },
      "outputs": [
        {
          "output_type": "execute_result",
          "data": {
            "text/plain": [
              "451"
            ]
          },
          "metadata": {},
          "execution_count": 149
        }
      ],
      "source": [
        "test_ind"
      ]
    },
    {
      "cell_type": "code",
      "execution_count": 150,
      "metadata": {
        "id": "6H3R11r0-LhV"
      },
      "outputs": [],
      "source": [
        "train = df.iloc[:test_ind]#Splitting Training Data\n",
        "test = df.iloc[test_ind:]#Splitting Testing Data"
      ]
    },
    {
      "cell_type": "code",
      "execution_count": 151,
      "metadata": {
        "colab": {
          "base_uri": "https://localhost:8080/",
          "height": 265
        },
        "id": "zoPY40Mz-LhX",
        "outputId": "1354621e-97ef-458a-c73b-8c6adef4432e"
      },
      "outputs": [
        {
          "output_type": "display_data",
          "data": {
            "text/plain": [
              "<Figure size 432x288 with 1 Axes>"
            ],
            "image/png": "[encoded data removed]"
          },
          "metadata": {
            "needs_background": "light"
          }
        }
      ],
      "source": [
        "train.plot()\n",
        "plt.grid()"
      ]
    },
    {
      "cell_type": "code",
      "execution_count": 152,
      "metadata": {
        "colab": {
          "base_uri": "https://localhost:8080/",
          "height": 265
        },
        "id": "ZlQXypmy-LhY",
        "outputId": "10f8acf3-d771-475d-870d-9dbf93d3278d"
      },
      "outputs": [
        {
          "output_type": "display_data",
          "data": {
            "text/plain": [
              "<Figure size 432x288 with 1 Axes>"
            ],
            "image/png": "[encoded data removed]"
          },
          "metadata": {
            "needs_background": "light"
          }
        }
      ],
      "source": [
        "test.plot()\n",
        "plt.grid()"
      ]
    },
    {
      "cell_type": "markdown",
      "metadata": {
        "id": "62uMe3AM-LhZ"
      },
      "source": [
        "## Scaling and Normalizing/Transforming Data"
      ]
    },
    {
      "cell_type": "code",
      "execution_count": 153,
      "metadata": {
        "id": "lmkPKU2T-Lhb"
      },
      "outputs": [],
      "source": [
        "from sklearn.preprocessing import MinMaxScaler"
      ]
    },
    {
      "cell_type": "code",
      "execution_count": 154,
      "metadata": {
        "id": "e9PVB3lE-Lhb"
      },
      "outputs": [],
      "source": [
        "scaler = MinMaxScaler()"
      ]
    },
    {
      "cell_type": "code",
      "execution_count": 155,
      "metadata": {
        "colab": {
          "base_uri": "https://localhost:8080/"
        },
        "id": "q_U16ZJk-Lhc",
        "outputId": "5dbeb543-0591-40a7-aeab-f551c7012d14"
      },
      "outputs": [
        {
          "output_type": "execute_result",
          "data": {
            "text/plain": [
              "MinMaxScaler()"
            ]
          },
          "metadata": {},
          "execution_count": 155
        }
      ],
      "source": [
        "scaler.fit(train)"
      ]
    },
    {
      "cell_type": "code",
      "execution_count": 156,
      "metadata": {
        "id": "wugsszoB-Lhe"
      },
      "outputs": [],
      "source": [
        "scaled_train = scaler.transform(train)\n",
        "scaled_test = scaler.transform(test)"
      ]
    },
    {
      "cell_type": "code",
      "execution_count": 157,
      "metadata": {
        "id": "FhKo2Gor-Lhi"
      },
      "outputs": [],
      "source": [
        "from tensorflow.keras.preprocessing.sequence import TimeseriesGenerator"
      ]
    },
    {
      "cell_type": "code",
      "execution_count": 158,
      "metadata": {
        "colab": {
          "base_uri": "https://localhost:8080/"
        },
        "id": "EvSS3y83-Lhj",
        "outputId": "b5543dd1-81ed-445e-962d-4672f535b4b4"
      },
      "outputs": [
        {
          "output_type": "execute_result",
          "data": {
            "text/plain": [
              "(451, 1)"
            ]
          },
          "metadata": {},
          "execution_count": 158
        }
      ],
      "source": [
        "scaled_train.shape"
      ]
    },
    {
      "cell_type": "code",
      "execution_count": 159,
      "metadata": {
        "id": "_ODX2Ye6-Lhj"
      },
      "outputs": [],
      "source": [
        "# define sample generator to understand sequence length\n",
        "length = 2 # Length of extracted sequence required to predict output\n",
        "batch_size = 1 #Number of batches required for output\n",
        "generator = TimeseriesGenerator(scaled_train, scaled_train, length=length, batch_size=batch_size)#contains inputs X and corresponding outputs Y (data,targets,length,batch size)"
      ]
    },
    {
      "cell_type": "code",
      "execution_count": 160,
      "metadata": {
        "colab": {
          "base_uri": "https://localhost:8080/"
        },
        "id": "wcv4kiyz-Lhk",
        "outputId": "0ffab097-8806-4d68-f3df-f2e47ed9d56a"
      },
      "outputs": [
        {
          "output_type": "execute_result",
          "data": {
            "text/plain": [
              "451"
            ]
          },
          "metadata": {},
          "execution_count": 160
        }
      ],
      "source": [
        "len(scaled_train)"
      ]
    },
    {
      "cell_type": "code",
      "execution_count": 161,
      "metadata": {
        "colab": {
          "base_uri": "https://localhost:8080/"
        },
        "id": "39R8bQEl-Lhm",
        "outputId": "fb1c62f4-9c0f-4f7f-86db-6afd5cdf1c7d"
      },
      "outputs": [
        {
          "output_type": "execute_result",
          "data": {
            "text/plain": [
              "449"
            ]
          },
          "metadata": {},
          "execution_count": 161
        }
      ],
      "source": [
        "len(generator) # compromises 2 points from total datapoints for prediction of 1st point as from sequence length(length above)"
      ]
    },
    {
      "cell_type": "code",
      "execution_count": 162,
      "metadata": {
        "colab": {
          "base_uri": "https://localhost:8080/"
        },
        "id": "erVheNL7-Lhp",
        "outputId": "c15e1f6f-97da-48b0-b333-397484280512"
      },
      "outputs": [
        {
          "output_type": "stream",
          "name": "stdout",
          "text": [
            "Given Array sequence: \n",
            "[0.49999912 0.54991622]\n",
            "Predicted y: \n",
            " [[0.59933458]]\n"
          ]
        }
      ],
      "source": [
        "X,y = generator[0];\n",
        "print(f'Given Array sequence: \\n{X.flatten()}');\n",
        "print(f'Predicted y: \\n {y}');"
      ]
    },
    {
      "cell_type": "code",
      "execution_count": 163,
      "metadata": {
        "id": "AFyjM0J4-Lhs"
      },
      "outputs": [],
      "source": [
        "length = 50; #more optimal sequence size for prediction so that the sequence used for prediction captures the trend and/or seasonality\n",
        "generator = TimeseriesGenerator(scaled_train, scaled_train, length=length, batch_size=1);"
      ]
    },
    {
      "cell_type": "markdown",
      "metadata": {
        "id": "DnFj0qqT-Lht"
      },
      "source": [
        "### Simple RNN Model"
      ]
    },
    {
      "cell_type": "code",
      "execution_count": 164,
      "metadata": {
        "id": "DIaxC7KV-Lhu"
      },
      "outputs": [],
      "source": [
        "from tensorflow.keras.models import Sequential\n",
        "from tensorflow.keras.layers import Dense,LSTM,SimpleRNN"
      ]
    },
    {
      "cell_type": "code",
      "execution_count": 165,
      "metadata": {
        "id": "ZY-8Ar1_-Lhu"
      },
      "outputs": [],
      "source": [
        "n_features = 1;#number of time varying features to be predicted"
      ]
    },
    {
      "cell_type": "code",
      "execution_count": 166,
      "metadata": {
        "id": "-kZds6KN-Lhv",
        "colab": {
          "base_uri": "https://localhost:8080/"
        },
        "outputId": "4f11880c-1550-446b-873b-64e2e99bcc00"
      },
      "outputs": [
        {
          "output_type": "stream",
          "name": "stdout",
          "text": [
            "Model: \"sequential_6\"\n",
            "_________________________________________________________________\n",
            " Layer (type)                Output Shape              Param #   \n",
            "=================================================================\n",
            " simple_rnn_2 (SimpleRNN)    (None, 50)                2600      \n",
            "                                                                 \n",
            " dense_6 (Dense)             (None, 1)                 51        \n",
            "                                                                 \n",
            "=================================================================\n",
            "Total params: 2,651\n",
            "Trainable params: 2,651\n",
            "Non-trainable params: 0\n",
            "_________________________________________________________________\n"
          ]
        }
      ],
      "source": [
        "#Simple RNN Model Building \n",
        "# define model\n",
        "model = Sequential()\n",
        "\n",
        "# Simple RNN layer\n",
        "model.add(SimpleRNN(50,input_shape=(length, n_features)))#50 hidden states and input_shape for each is the length of input vectors per predictionxnumber of features for prediction\n",
        "\n",
        "# Predictor\n",
        "model.add(Dense(1))\n",
        "\n",
        "model.compile(optimizer='adam', loss='mse')#Regression Prediction\n",
        "model.summary()"
      ]
    },
    {
      "cell_type": "code",
      "execution_count": 167,
      "metadata": {
        "colab": {
          "base_uri": "https://localhost:8080/"
        },
        "id": "oq-OI5iy-Lhx",
        "outputId": "3d46af8f-3298-4cf2-c186-888a4baae556"
      },
      "outputs": [
        {
          "output_type": "stream",
          "name": "stdout",
          "text": [
            "Epoch 1/5\n"
          ]
        },
        {
          "output_type": "stream",
          "name": "stderr",
          "text": [
            "/usr/local/lib/python3.7/dist-packages/ipykernel_launcher.py:2: UserWarning: `Model.fit_generator` is deprecated and will be removed in a future version. Please use `Model.fit`, which supports generators.\n",
            "  \n"
          ]
        },
        {
          "output_type": "stream",
          "name": "stdout",
          "text": [
            "401/401 [==============================] - 5s 9ms/step - loss: 0.0032\n",
            "Epoch 2/5\n",
            "401/401 [==============================] - 4s 9ms/step - loss: 1.4150e-04\n",
            "Epoch 3/5\n",
            "401/401 [==============================] - 4s 9ms/step - loss: 3.3717e-05\n",
            "Epoch 4/5\n",
            "401/401 [==============================] - 4s 9ms/step - loss: 2.3237e-04\n",
            "Epoch 5/5\n",
            "401/401 [==============================] - 4s 9ms/step - loss: 1.1326e-04\n"
          ]
        },
        {
          "output_type": "execute_result",
          "data": {
            "text/plain": [
              "<keras.callbacks.History at 0x7f494846ed90>"
            ]
          },
          "metadata": {},
          "execution_count": 167
        }
      ],
      "source": [
        "# Model Fitting\n",
        "model.fit_generator(generator,epochs=5)"
      ]
    },
    {
      "cell_type": "code",
      "execution_count": 168,
      "metadata": {
        "colab": {
          "base_uri": "https://localhost:8080/"
        },
        "id": "rYTI1CeC-Lhy",
        "outputId": "1d2bc0b6-11a4-4869-a1d3-47399972de51"
      },
      "outputs": [
        {
          "output_type": "execute_result",
          "data": {
            "text/plain": [
              "dict_keys(['loss'])"
            ]
          },
          "metadata": {},
          "execution_count": 168
        }
      ],
      "source": [
        "model.history.history.keys()"
      ]
    },
    {
      "cell_type": "code",
      "execution_count": 169,
      "metadata": {
        "colab": {
          "base_uri": "https://localhost:8080/",
          "height": 282
        },
        "id": "PuXLNZTE-Lhz",
        "outputId": "be86cd6d-0916-44fd-d78f-0c6046d661d2"
      },
      "outputs": [
        {
          "output_type": "execute_result",
          "data": {
            "text/plain": [
              "<matplotlib.axes._subplots.AxesSubplot at 0x7f49489a1c10>"
            ]
          },
          "metadata": {},
          "execution_count": 169
        },
        {
          "output_type": "display_data",
          "data": {
            "text/plain": [
              "<Figure size 432x288 with 1 Axes>"
            ],
            "image/png": "[encoded data removed]"
          },
          "metadata": {
            "needs_background": "light"
          }
        }
      ],
      "source": [
        "losses = pd.DataFrame(model.history.history)\n",
        "losses.plot()"
      ]
    },
    {
      "cell_type": "markdown",
      "metadata": {
        "id": "O12sKGde-Lh0"
      },
      "source": [
        "## Model Prediction and Evaluation"
      ]
    },
    {
      "cell_type": "code",
      "execution_count": 170,
      "metadata": {
        "id": "OGwHnL4s-Lh1",
        "colab": {
          "base_uri": "https://localhost:8080/"
        },
        "outputId": "8961ef82-76d0-4b2a-cd65-84068e50f4d9"
      },
      "outputs": [
        {
          "output_type": "execute_result",
          "data": {
            "text/plain": [
              "array([[0.9419278]], dtype=float32)"
            ]
          },
          "metadata": {},
          "execution_count": 170
        }
      ],
      "source": [
        "#Demonstration of prediction process for one single item prediction using the sequence from the last elements\n",
        "first_eval_batch = scaled_train[-length:]#last items of size sequence length\n",
        "first_eval_batch = first_eval_batch.reshape((1, length, n_features))#reshaping to timeseriesgenwrator dimensions\n",
        "model.predict(first_eval_batch)#obtaining the first prediction for the sequence"
      ]
    },
    {
      "cell_type": "code",
      "execution_count": 171,
      "metadata": {
        "id": "1xwIz8RR-Lh4",
        "outputId": "02254683-ca70-44fe-8ce3-bc00a4be3ed9",
        "colab": {
          "base_uri": "https://localhost:8080/"
        }
      },
      "outputs": [
        {
          "output_type": "execute_result",
          "data": {
            "text/plain": [
              "array([0.94955134])"
            ]
          },
          "metadata": {},
          "execution_count": 171
        }
      ],
      "source": [
        "scaled_test[0]#model.predict pretty close to actual 1st test prediction"
      ]
    },
    {
      "cell_type": "code",
      "execution_count": 172,
      "metadata": {
        "id": "O0l-HXj2-Lh9"
      },
      "outputs": [],
      "source": [
        "#Iterative algorithm for updating predictions successively \n",
        "test_predictions = []#to store each prediction from iterative updated sequence\n",
        "first_eval_batch = scaled_train[-length:]#initial sequence for 1st prediction\n",
        "current_batch = first_eval_batch.reshape((1, length, n_features))#reshaping to generator dimensions for ftting model requirements prediction\n",
        "\n",
        "for i in range(len(test)):#number of predictions=length of test size\n",
        "    \n",
        "    # get prediction 1 time stamp ahead ([0] is for grabbing just the number instead of [array])\n",
        "    current_pred = model.predict(current_batch)[0]\n",
        "    \n",
        "    # store prediction\n",
        "    test_predictions.append(current_pred) \n",
        "    \n",
        "    # update batch to now include new prediction and drop first value to fit to sequence length for generator \n",
        "    current_batch = np.append(current_batch[:,1:,:],[[current_pred]],axis=1)"
      ]
    },
    {
      "cell_type": "code",
      "execution_count": 173,
      "metadata": {
        "id": "ojZa3Aow-Lh-",
        "outputId": "45b65717-97d5-49dc-9fb4-808bac5b94b2",
        "colab": {
          "base_uri": "https://localhost:8080/"
        }
      },
      "outputs": [
        {
          "output_type": "execute_result",
          "data": {
            "text/plain": [
              "[array([0.9419278], dtype=float32),\n",
              " array([0.9575154], dtype=float32),\n",
              " array([0.96577597], dtype=float32),\n",
              " array([0.9698399], dtype=float32),\n",
              " array([0.965973], dtype=float32),\n",
              " array([0.9581588], dtype=float32),\n",
              " array([0.9433252], dtype=float32),\n",
              " array([0.9249808], dtype=float32),\n",
              " array([0.9006145], dtype=float32),\n",
              " array([0.873015], dtype=float32),\n",
              " array([0.8404466], dtype=float32),\n",
              " array([0.8043962], dtype=float32),\n",
              " array([0.7646439], dtype=float32),\n",
              " array([0.7222099], dtype=float32),\n",
              " array([0.6770832], dtype=float32),\n",
              " array([0.6294443], dtype=float32),\n",
              " array([0.5806644], dtype=float32),\n",
              " array([0.52963054], dtype=float32),\n",
              " array([0.47773424], dtype=float32),\n",
              " array([0.4253581], dtype=float32),\n",
              " array([0.37275854], dtype=float32),\n",
              " array([0.32051232], dtype=float32),\n",
              " array([0.26893774], dtype=float32),\n",
              " array([0.21911111], dtype=float32),\n",
              " array([0.17104538], dtype=float32),\n",
              " array([0.12645079], dtype=float32),\n",
              " array([0.08392474], dtype=float32),\n",
              " array([0.04677426], dtype=float32),\n",
              " array([0.01345877], dtype=float32),\n",
              " array([-0.01347235], dtype=float32),\n",
              " array([-0.0359322], dtype=float32),\n",
              " array([-0.05139518], dtype=float32),\n",
              " array([-0.06139833], dtype=float32),\n",
              " array([-0.06431098], dtype=float32),\n",
              " array([-0.06093927], dtype=float32),\n",
              " array([-0.05114176], dtype=float32),\n",
              " array([-0.03491349], dtype=float32),\n",
              " array([-0.01388201], dtype=float32),\n",
              " array([0.01391255], dtype=float32),\n",
              " array([0.04547612], dtype=float32),\n",
              " array([0.08315141], dtype=float32),\n",
              " array([0.12288608], dtype=float32),\n",
              " array([0.16774252], dtype=float32),\n",
              " array([0.21295302], dtype=float32),\n",
              " array([0.26206797], dtype=float32),\n",
              " array([0.31148544], dtype=float32),\n",
              " array([0.36244166], dtype=float32),\n",
              " array([0.4129182], dtype=float32),\n",
              " array([0.4630768], dtype=float32),\n",
              " array([0.5130427], dtype=float32)]"
            ]
          },
          "metadata": {},
          "execution_count": 173
        }
      ],
      "source": [
        "test_predictions#predicted scaled test data values"
      ]
    },
    {
      "cell_type": "code",
      "execution_count": 174,
      "metadata": {
        "id": "MRstEwhF-Lh_",
        "outputId": "680f2fb6-b9a1-42ef-a2d4-8ce41c5598ee",
        "colab": {
          "base_uri": "https://localhost:8080/"
        }
      },
      "outputs": [
        {
          "output_type": "execute_result",
          "data": {
            "text/plain": [
              "array([9.49551344e-01, 9.69156618e-01, 9.84074225e-01, 9.94155114e-01,\n",
              "       9.99298559e-01, 9.99453170e-01, 9.94617400e-01, 9.84839568e-01,\n",
              "       9.70217371e-01, 9.50896908e-01, 9.27071224e-01, 8.98978376e-01,\n",
              "       8.66899060e-01, 8.31153800e-01, 7.92099752e-01, 7.50127132e-01,\n",
              "       7.05655314e-01, 6.59128649e-01, 6.11012013e-01, 5.61786173e-01,\n",
              "       5.11942978e-01, 4.61980443e-01, 4.12397778e-01, 3.63690397e-01,\n",
              "       3.16344967e-01, 2.70834550e-01, 2.27613868e-01, 1.87114770e-01,\n",
              "       1.49741909e-01, 1.15868702e-01, 8.58335998e-02, 5.99367021e-02,\n",
              "       3.84367625e-02, 2.15486014e-02, 9.44095974e-03, 2.23481297e-03,\n",
              "       2.16257798e-06, 2.76531647e-03, 1.04966661e-02, 2.31189624e-02,\n",
              "       4.05060876e-02, 6.24843152e-02, 8.88340461e-02, 1.19292002e-01,\n",
              "       1.53553858e-01, 1.91277281e-01, 2.32085350e-01, 2.75570325e-01,\n",
              "       3.21297718e-01, 3.68810636e-01])"
            ]
          },
          "metadata": {},
          "execution_count": 174
        }
      ],
      "source": [
        "scaled_test.flatten()#actual scales test data values"
      ]
    },
    {
      "cell_type": "markdown",
      "metadata": {
        "id": "JbY__6D--LiA"
      },
      "source": [
        "## Inverse Transformations and Comparison"
      ]
    },
    {
      "cell_type": "code",
      "execution_count": 175,
      "metadata": {
        "id": "30TmQcMG-LiA"
      },
      "outputs": [],
      "source": [
        "true_predictions = scaler.inverse_transform(test_predictions)#back to non-normalized scale"
      ]
    },
    {
      "cell_type": "code",
      "execution_count": 176,
      "metadata": {
        "id": "62sH5hDs-LiB",
        "outputId": "771c859d-6781-4de8-a420-156845973fb3",
        "colab": {
          "base_uri": "https://localhost:8080/"
        }
      },
      "outputs": [
        {
          "output_type": "execute_result",
          "data": {
            "text/plain": [
              "array([ 0.88385026,  0.91502526,  0.93154623,  0.93967397,  0.93194033,\n",
              "        0.916312  ,  0.8866451 ,  0.84995659,  0.80122434,  0.74602575,\n",
              "        0.68088949,  0.60878931,  0.52928534,  0.44441794,  0.35416531,\n",
              "        0.25888829,  0.16132927,  0.05926238, -0.0445294 , -0.14928086,\n",
              "       -0.25447911, -0.3589707 , -0.46211905, -0.56177149, -0.6579022 ,\n",
              "       -0.74709065, -0.83214207, -0.90644244, -0.97307289, -1.0269347 ,\n",
              "       -1.07185403, -1.10277974, -1.12278588, -1.12861113, -1.12186777,\n",
              "       -1.1022729 , -1.06981662, -1.02775401, -0.97216532, -0.9090387 ,\n",
              "       -0.83368871, -0.75422001, -0.66450786, -0.57408759, -0.47585847,\n",
              "       -0.37702433, -0.27511271, -0.17416041, -0.07384404,  0.02608694])"
            ]
          },
          "metadata": {},
          "execution_count": 176
        }
      ],
      "source": [
        "true_predictions.flatten()"
      ]
    },
    {
      "cell_type": "code",
      "execution_count": 177,
      "metadata": {
        "id": "rLWMeJRu-LiB",
        "outputId": "7d5fc930-6643-48bf-fdc9-fa3aeb471107",
        "colab": {
          "base_uri": "https://localhost:8080/",
          "height": 174
        }
      },
      "outputs": [
        {
          "output_type": "execute_result",
          "data": {
            "text/plain": [
              "          45.1      45.2      45.3      45.4      45.5    45.6      45.7  \\\n",
              "Sine  0.899097  0.938307  0.968142  0.988304  0.998591  0.9989  0.989229   \n",
              "\n",
              "          45.8      45.9      46.0  ...      49.1      49.2      49.3  \\\n",
              "Sine  0.969673  0.940429  0.901788  ... -0.918979 -0.875023 -0.822324   \n",
              "\n",
              "          49.4      49.5      49.6      49.7      49.8    49.9      50.0  \n",
              "Sine -0.761408 -0.692885 -0.617439 -0.535823 -0.448854 -0.3574 -0.262375  \n",
              "\n",
              "[1 rows x 50 columns]"
            ],
            "text/html": [
              "\n",
              "  <div id=\"df-8c0d5dbb-61c9-4f05-b26b-9dffa866b35c\">\n",
              "    <div class=\"colab-df-container\">\n",
              "      <div>\n",
              "<style scoped>\n",
              "    .dataframe tbody tr th:only-of-type {\n",
              "        vertical-align: middle;\n",
              "    }\n",
              "\n",
              "    .dataframe tbody tr th {\n",
              "        vertical-align: top;\n",
              "    }\n",
              "\n",
              "    .dataframe thead th {\n",
              "        text-align: right;\n",
              "    }\n",
              "</style>\n",
              "<table border=\"1\" class=\"dataframe\">\n",
              "  <thead>\n",
              "    <tr style=\"text-align: right;\">\n",
              "      <th></th>\n",
              "      <th>45.1</th>\n",
              "      <th>45.2</th>\n",
              "      <th>45.3</th>\n",
              "      <th>45.4</th>\n",
              "      <th>45.5</th>\n",
              "      <th>45.6</th>\n",
              "      <th>45.7</th>\n",
              "      <th>45.8</th>\n",
              "      <th>45.9</th>\n",
              "      <th>46.0</th>\n",
              "      <th>...</th>\n",
              "      <th>49.1</th>\n",
              "      <th>49.2</th>\n",
              "      <th>49.3</th>\n",
              "      <th>49.4</th>\n",
              "      <th>49.5</th>\n",
              "      <th>49.6</th>\n",
              "      <th>49.7</th>\n",
              "      <th>49.8</th>\n",
              "      <th>49.9</th>\n",
              "      <th>50.0</th>\n",
              "    </tr>\n",
              "  </thead>\n",
              "  <tbody>\n",
              "    <tr>\n",
              "      <th>Sine</th>\n",
              "      <td>0.899097</td>\n",
              "      <td>0.938307</td>\n",
              "      <td>0.968142</td>\n",
              "      <td>0.988304</td>\n",
              "      <td>0.998591</td>\n",
              "      <td>0.9989</td>\n",
              "      <td>0.989229</td>\n",
              "      <td>0.969673</td>\n",
              "      <td>0.940429</td>\n",
              "      <td>0.901788</td>\n",
              "      <td>...</td>\n",
              "      <td>-0.918979</td>\n",
              "      <td>-0.875023</td>\n",
              "      <td>-0.822324</td>\n",
              "      <td>-0.761408</td>\n",
              "      <td>-0.692885</td>\n",
              "      <td>-0.617439</td>\n",
              "      <td>-0.535823</td>\n",
              "      <td>-0.448854</td>\n",
              "      <td>-0.3574</td>\n",
              "      <td>-0.262375</td>\n",
              "    </tr>\n",
              "  </tbody>\n",
              "</table>\n",
              "<p>1 rows × 50 columns</p>\n",
              "</div>\n",
              "      <button class=\"colab-df-convert\" onclick=\"convertToInteractive('df-8c0d5dbb-61c9-4f05-b26b-9dffa866b35c')\"\n",
              "              title=\"Convert this dataframe to an interactive table.\"\n",
              "              style=\"display:none;\">\n",
              "        \n",
              "  <svg xmlns=\"http://www.w3.org/2000/svg\" height=\"24px\"viewBox=\"0 0 24 24\"\n",
              "       width=\"24px\">\n",
              "    <path d=\"M0 0h24v24H0V0z\" fill=\"none\"/>\n",
              "    <path d=\"M18.56 5.44l.94 2.06.94-2.06 2.06-.94-2.06-.94-.94-2.06-.94 2.06-2.06.94zm-11 1L8.5 8.5l.94-2.06 2.06-.94-2.06-.94L8.5 2.5l-.94 2.06-2.06.94zm10 10l.94 2.06.94-2.06 2.06-.94-2.06-.94-.94-2.06-.94 2.06-2.06.94z\"/><path d=\"M17.41 7.96l-1.37-1.37c-.4-.4-.92-.59-1.43-.59-.52 0-1.04.2-1.43.59L10.3 9.45l-7.72 7.72c-.78.78-.78 2.05 0 2.83L4 21.41c.39.39.9.59 1.41.59.51 0 1.02-.2 1.41-.59l7.78-7.78 2.81-2.81c.8-.78.8-2.07 0-2.86zM5.41 20L4 18.59l7.72-7.72 1.47 1.35L5.41 20z\"/>\n",
              "  </svg>\n",
              "      </button>\n",
              "      \n",
              "  <style>\n",
              "    .colab-df-container {\n",
              "      display:flex;\n",
              "      flex-wrap:wrap;\n",
              "      gap: 12px;\n",
              "    }\n",
              "\n",
              "    .colab-df-convert {\n",
              "      background-color: #E8F0FE;\n",
              "      border: none;\n",
              "      border-radius: 50%;\n",
              "      cursor: pointer;\n",
              "      display: none;\n",
              "      fill: #1967D2;\n",
              "      height: 32px;\n",
              "      padding: 0 0 0 0;\n",
              "      width: 32px;\n",
              "    }\n",
              "\n",
              "    .colab-df-convert:hover {\n",
              "      background-color: #E2EBFA;\n",
              "      box-shadow: 0px 1px 2px rgba(60, 64, 67, 0.3), 0px 1px 3px 1px rgba(60, 64, 67, 0.15);\n",
              "      fill: #174EA6;\n",
              "    }\n",
              "\n",
              "    [theme=dark] .colab-df-convert {\n",
              "      background-color: #3B4455;\n",
              "      fill: #D2E3FC;\n",
              "    }\n",
              "\n",
              "    [theme=dark] .colab-df-convert:hover {\n",
              "      background-color: #434B5C;\n",
              "      box-shadow: 0px 1px 3px 1px rgba(0, 0, 0, 0.15);\n",
              "      filter: drop-shadow(0px 1px 2px rgba(0, 0, 0, 0.3));\n",
              "      fill: #FFFFFF;\n",
              "    }\n",
              "  </style>\n",
              "\n",
              "      <script>\n",
              "        const buttonEl =\n",
              "          document.querySelector('#df-8c0d5dbb-61c9-4f05-b26b-9dffa866b35c button.colab-df-convert');\n",
              "        buttonEl.style.display =\n",
              "          google.colab.kernel.accessAllowed ? 'block' : 'none';\n",
              "\n",
              "        async function convertToInteractive(key) {\n",
              "          const element = document.querySelector('#df-8c0d5dbb-61c9-4f05-b26b-9dffa866b35c');\n",
              "          const dataTable =\n",
              "            await google.colab.kernel.invokeFunction('convertToInteractive',\n",
              "                                                     [key], {});\n",
              "          if (!dataTable) return;\n",
              "\n",
              "          const docLinkHtml = 'Like what you see? Visit the ' +\n",
              "            '<a target=\"_blank\" href=https://colab.research.google.com/notebooks/data_table.ipynb>data table notebook</a>'\n",
              "            + ' to learn more about interactive tables.';\n",
              "          element.innerHTML = '';\n",
              "          dataTable['output_type'] = 'display_data';\n",
              "          await google.colab.output.renderOutput(dataTable, element);\n",
              "          const docLink = document.createElement('div');\n",
              "          docLink.innerHTML = docLinkHtml;\n",
              "          element.appendChild(docLink);\n",
              "        }\n",
              "      </script>\n",
              "    </div>\n",
              "  </div>\n",
              "  "
            ]
          },
          "metadata": {},
          "execution_count": 177
        }
      ],
      "source": [
        "test.transpose()"
      ]
    },
    {
      "cell_type": "code",
      "execution_count": 178,
      "metadata": {
        "id": "If7S3FRt-LiC",
        "outputId": "3d85dc50-3076-4777-a5b7-878337cb91b2",
        "colab": {
          "base_uri": "https://localhost:8080/"
        }
      },
      "outputs": [
        {
          "output_type": "stream",
          "name": "stderr",
          "text": [
            "/usr/local/lib/python3.7/dist-packages/ipykernel_launcher.py:1: SettingWithCopyWarning: \n",
            "A value is trying to be set on a copy of a slice from a DataFrame.\n",
            "Try using .loc[row_indexer,col_indexer] = value instead\n",
            "\n",
            "See the caveats in the documentation: https://pandas.pydata.org/pandas-docs/stable/user_guide/indexing.html#returning-a-view-versus-a-copy\n",
            "  \"\"\"Entry point for launching an IPython kernel.\n"
          ]
        }
      ],
      "source": [
        "test['Predictions'] = true_predictions"
      ]
    },
    {
      "cell_type": "code",
      "execution_count": 179,
      "metadata": {
        "id": "B-fUzdzo-LiD",
        "outputId": "76fbf17e-6318-4ba4-b7ea-0b1ab6f33891",
        "colab": {
          "base_uri": "https://localhost:8080/",
          "height": 205
        }
      },
      "outputs": [
        {
          "output_type": "execute_result",
          "data": {
            "text/plain": [
              "                 45.1      45.2      45.3      45.4      45.5      45.6  \\\n",
              "Sine         0.899097  0.938307  0.968142  0.988304  0.998591  0.998900   \n",
              "Predictions  0.883850  0.915025  0.931546  0.939674  0.931940  0.916312   \n",
              "\n",
              "                 45.7      45.8      45.9      46.0  ...      49.1      49.2  \\\n",
              "Sine         0.989229  0.969673  0.940429  0.901788  ... -0.918979 -0.875023   \n",
              "Predictions  0.886645  0.849957  0.801224  0.746026  ... -0.833689 -0.754220   \n",
              "\n",
              "                 49.3      49.4      49.5      49.6      49.7      49.8  \\\n",
              "Sine        -0.822324 -0.761408 -0.692885 -0.617439 -0.535823 -0.448854   \n",
              "Predictions -0.664508 -0.574088 -0.475858 -0.377024 -0.275113 -0.174160   \n",
              "\n",
              "                 49.9      50.0  \n",
              "Sine        -0.357400 -0.262375  \n",
              "Predictions -0.073844  0.026087  \n",
              "\n",
              "[2 rows x 50 columns]"
            ],
            "text/html": [
              "\n",
              "  <div id=\"df-2d7b2009-c0bb-4b8b-a10e-2d84073ed798\">\n",
              "    <div class=\"colab-df-container\">\n",
              "      <div>\n",
              "<style scoped>\n",
              "    .dataframe tbody tr th:only-of-type {\n",
              "        vertical-align: middle;\n",
              "    }\n",
              "\n",
              "    .dataframe tbody tr th {\n",
              "        vertical-align: top;\n",
              "    }\n",
              "\n",
              "    .dataframe thead th {\n",
              "        text-align: right;\n",
              "    }\n",
              "</style>\n",
              "<table border=\"1\" class=\"dataframe\">\n",
              "  <thead>\n",
              "    <tr style=\"text-align: right;\">\n",
              "      <th></th>\n",
              "      <th>45.1</th>\n",
              "      <th>45.2</th>\n",
              "      <th>45.3</th>\n",
              "      <th>45.4</th>\n",
              "      <th>45.5</th>\n",
              "      <th>45.6</th>\n",
              "      <th>45.7</th>\n",
              "      <th>45.8</th>\n",
              "      <th>45.9</th>\n",
              "      <th>46.0</th>\n",
              "      <th>...</th>\n",
              "      <th>49.1</th>\n",
              "      <th>49.2</th>\n",
              "      <th>49.3</th>\n",
              "      <th>49.4</th>\n",
              "      <th>49.5</th>\n",
              "      <th>49.6</th>\n",
              "      <th>49.7</th>\n",
              "      <th>49.8</th>\n",
              "      <th>49.9</th>\n",
              "      <th>50.0</th>\n",
              "    </tr>\n",
              "  </thead>\n",
              "  <tbody>\n",
              "    <tr>\n",
              "      <th>Sine</th>\n",
              "      <td>0.899097</td>\n",
              "      <td>0.938307</td>\n",
              "      <td>0.968142</td>\n",
              "      <td>0.988304</td>\n",
              "      <td>0.998591</td>\n",
              "      <td>0.998900</td>\n",
              "      <td>0.989229</td>\n",
              "      <td>0.969673</td>\n",
              "      <td>0.940429</td>\n",
              "      <td>0.901788</td>\n",
              "      <td>...</td>\n",
              "      <td>-0.918979</td>\n",
              "      <td>-0.875023</td>\n",
              "      <td>-0.822324</td>\n",
              "      <td>-0.761408</td>\n",
              "      <td>-0.692885</td>\n",
              "      <td>-0.617439</td>\n",
              "      <td>-0.535823</td>\n",
              "      <td>-0.448854</td>\n",
              "      <td>-0.357400</td>\n",
              "      <td>-0.262375</td>\n",
              "    </tr>\n",
              "    <tr>\n",
              "      <th>Predictions</th>\n",
              "      <td>0.883850</td>\n",
              "      <td>0.915025</td>\n",
              "      <td>0.931546</td>\n",
              "      <td>0.939674</td>\n",
              "      <td>0.931940</td>\n",
              "      <td>0.916312</td>\n",
              "      <td>0.886645</td>\n",
              "      <td>0.849957</td>\n",
              "      <td>0.801224</td>\n",
              "      <td>0.746026</td>\n",
              "      <td>...</td>\n",
              "      <td>-0.833689</td>\n",
              "      <td>-0.754220</td>\n",
              "      <td>-0.664508</td>\n",
              "      <td>-0.574088</td>\n",
              "      <td>-0.475858</td>\n",
              "      <td>-0.377024</td>\n",
              "      <td>-0.275113</td>\n",
              "      <td>-0.174160</td>\n",
              "      <td>-0.073844</td>\n",
              "      <td>0.026087</td>\n",
              "    </tr>\n",
              "  </tbody>\n",
              "</table>\n",
              "<p>2 rows × 50 columns</p>\n",
              "</div>\n",
              "      <button class=\"colab-df-convert\" onclick=\"convertToInteractive('df-2d7b2009-c0bb-4b8b-a10e-2d84073ed798')\"\n",
              "              title=\"Convert this dataframe to an interactive table.\"\n",
              "              style=\"display:none;\">\n",
              "        \n",
              "  <svg xmlns=\"http://www.w3.org/2000/svg\" height=\"24px\"viewBox=\"0 0 24 24\"\n",
              "       width=\"24px\">\n",
              "    <path d=\"M0 0h24v24H0V0z\" fill=\"none\"/>\n",
              "    <path d=\"M18.56 5.44l.94 2.06.94-2.06 2.06-.94-2.06-.94-.94-2.06-.94 2.06-2.06.94zm-11 1L8.5 8.5l.94-2.06 2.06-.94-2.06-.94L8.5 2.5l-.94 2.06-2.06.94zm10 10l.94 2.06.94-2.06 2.06-.94-2.06-.94-.94-2.06-.94 2.06-2.06.94z\"/><path d=\"M17.41 7.96l-1.37-1.37c-.4-.4-.92-.59-1.43-.59-.52 0-1.04.2-1.43.59L10.3 9.45l-7.72 7.72c-.78.78-.78 2.05 0 2.83L4 21.41c.39.39.9.59 1.41.59.51 0 1.02-.2 1.41-.59l7.78-7.78 2.81-2.81c.8-.78.8-2.07 0-2.86zM5.41 20L4 18.59l7.72-7.72 1.47 1.35L5.41 20z\"/>\n",
              "  </svg>\n",
              "      </button>\n",
              "      \n",
              "  <style>\n",
              "    .colab-df-container {\n",
              "      display:flex;\n",
              "      flex-wrap:wrap;\n",
              "      gap: 12px;\n",
              "    }\n",
              "\n",
              "    .colab-df-convert {\n",
              "      background-color: #E8F0FE;\n",
              "      border: none;\n",
              "      border-radius: 50%;\n",
              "      cursor: pointer;\n",
              "      display: none;\n",
              "      fill: #1967D2;\n",
              "      height: 32px;\n",
              "      padding: 0 0 0 0;\n",
              "      width: 32px;\n",
              "    }\n",
              "\n",
              "    .colab-df-convert:hover {\n",
              "      background-color: #E2EBFA;\n",
              "      box-shadow: 0px 1px 2px rgba(60, 64, 67, 0.3), 0px 1px 3px 1px rgba(60, 64, 67, 0.15);\n",
              "      fill: #174EA6;\n",
              "    }\n",
              "\n",
              "    [theme=dark] .colab-df-convert {\n",
              "      background-color: #3B4455;\n",
              "      fill: #D2E3FC;\n",
              "    }\n",
              "\n",
              "    [theme=dark] .colab-df-convert:hover {\n",
              "      background-color: #434B5C;\n",
              "      box-shadow: 0px 1px 3px 1px rgba(0, 0, 0, 0.15);\n",
              "      filter: drop-shadow(0px 1px 2px rgba(0, 0, 0, 0.3));\n",
              "      fill: #FFFFFF;\n",
              "    }\n",
              "  </style>\n",
              "\n",
              "      <script>\n",
              "        const buttonEl =\n",
              "          document.querySelector('#df-2d7b2009-c0bb-4b8b-a10e-2d84073ed798 button.colab-df-convert');\n",
              "        buttonEl.style.display =\n",
              "          google.colab.kernel.accessAllowed ? 'block' : 'none';\n",
              "\n",
              "        async function convertToInteractive(key) {\n",
              "          const element = document.querySelector('#df-2d7b2009-c0bb-4b8b-a10e-2d84073ed798');\n",
              "          const dataTable =\n",
              "            await google.colab.kernel.invokeFunction('convertToInteractive',\n",
              "                                                     [key], {});\n",
              "          if (!dataTable) return;\n",
              "\n",
              "          const docLinkHtml = 'Like what you see? Visit the ' +\n",
              "            '<a target=\"_blank\" href=https://colab.research.google.com/notebooks/data_table.ipynb>data table notebook</a>'\n",
              "            + ' to learn more about interactive tables.';\n",
              "          element.innerHTML = '';\n",
              "          dataTable['output_type'] = 'display_data';\n",
              "          await google.colab.output.renderOutput(dataTable, element);\n",
              "          const docLink = document.createElement('div');\n",
              "          docLink.innerHTML = docLinkHtml;\n",
              "          element.appendChild(docLink);\n",
              "        }\n",
              "      </script>\n",
              "    </div>\n",
              "  </div>\n",
              "  "
            ]
          },
          "metadata": {},
          "execution_count": 179
        }
      ],
      "source": [
        "test.T"
      ]
    },
    {
      "cell_type": "code",
      "execution_count": 180,
      "metadata": {
        "scrolled": true,
        "id": "A0UY36JJ-LiE",
        "outputId": "1b37bdca-9514-49d2-b657-c31470832a4b",
        "colab": {
          "base_uri": "https://localhost:8080/",
          "height": 483
        }
      },
      "outputs": [
        {
          "output_type": "display_data",
          "data": {
            "text/plain": [
              "<Figure size 864x576 with 1 Axes>"
            ],
            "image/png": "[encoded data removed]"
          },
          "metadata": {
            "needs_background": "light"
          }
        }
      ],
      "source": [
        "\n",
        "#Simple/Vanilla RNN prediction\n",
        "test.plot(figsize=(12,8))\n",
        "plt.grid()\n",
        "#predictions somewhat closely match the sine wave"
      ]
    },
    {
      "cell_type": "markdown",
      "metadata": {
        "id": "Jxq9nPpF-LiE"
      },
      "source": [
        "## Early Stopping and Validation Generator for Optimization over Epochs"
      ]
    },
    {
      "cell_type": "code",
      "execution_count": 181,
      "metadata": {
        "id": "7Wq4fE3A-LiF"
      },
      "outputs": [],
      "source": [
        "from tensorflow.keras.callbacks import EarlyStopping"
      ]
    },
    {
      "cell_type": "code",
      "execution_count": 182,
      "metadata": {
        "id": "_SJzNhPD-LiF"
      },
      "outputs": [],
      "source": [
        "early_stop = EarlyStopping(monitor='val_loss',patience=2)"
      ]
    },
    {
      "cell_type": "code",
      "execution_count": 183,
      "metadata": {
        "id": "b1URRmGw-LiG"
      },
      "outputs": [],
      "source": [
        "length = 49#for total prediction of length 50 sequence size must be less than or equal to 50\n",
        "generator = TimeseriesGenerator(scaled_train,scaled_train,\n",
        "                               length=length,batch_size=1)\n",
        "\n",
        "\n",
        "validation_generator = TimeseriesGenerator(scaled_test,scaled_test,\n",
        "                                          length=length,batch_size=1)"
      ]
    },
    {
      "cell_type": "markdown",
      "metadata": {
        "id": "b9LhQlhy-LiH"
      },
      "source": [
        "# LSTM Model"
      ]
    },
    {
      "cell_type": "code",
      "execution_count": 184,
      "metadata": {
        "id": "cegUjiRZ-LiH"
      },
      "outputs": [],
      "source": [
        "\n",
        "#LSTM model building\n",
        "# define model\n",
        "model = Sequential()\n",
        "\n",
        "# Simple RNN layer\n",
        "model.add(LSTM(50,input_shape=(length, n_features)))\n",
        "\n",
        "# Final Prediction\n",
        "model.add(Dense(1))\n",
        "\n",
        "model.compile(optimizer='adam', loss='mse')"
      ]
    },
    {
      "cell_type": "code",
      "execution_count": 185,
      "metadata": {
        "id": "ZaJiCVHO-LiI",
        "outputId": "905c7621-c1dd-45c7-f08f-d98d1865658f",
        "colab": {
          "base_uri": "https://localhost:8080/"
        }
      },
      "outputs": [
        {
          "output_type": "stream",
          "name": "stdout",
          "text": [
            "Epoch 1/20\n"
          ]
        },
        {
          "output_type": "stream",
          "name": "stderr",
          "text": [
            "/usr/local/lib/python3.7/dist-packages/ipykernel_launcher.py:3: UserWarning: `Model.fit_generator` is deprecated and will be removed in a future version. Please use `Model.fit`, which supports generators.\n",
            "  This is separate from the ipykernel package so we can avoid doing imports until\n"
          ]
        },
        {
          "output_type": "stream",
          "name": "stdout",
          "text": [
            "402/402 [==============================] - 11s 21ms/step - loss: 0.0165 - val_loss: 1.2145e-04\n",
            "Epoch 2/20\n",
            "402/402 [==============================] - 8s 20ms/step - loss: 1.8367e-04 - val_loss: 6.4430e-05\n",
            "Epoch 3/20\n",
            "402/402 [==============================] - 8s 19ms/step - loss: 1.1524e-04 - val_loss: 2.1018e-05\n",
            "Epoch 4/20\n",
            "402/402 [==============================] - 8s 19ms/step - loss: 8.5373e-05 - val_loss: 2.2994e-05\n",
            "Epoch 5/20\n",
            "402/402 [==============================] - 8s 19ms/step - loss: 4.4696e-04 - val_loss: 1.3819e-06\n",
            "Epoch 6/20\n",
            "402/402 [==============================] - 8s 20ms/step - loss: 7.0609e-05 - val_loss: 2.4064e-05\n",
            "Epoch 7/20\n",
            "402/402 [==============================] - 8s 20ms/step - loss: 3.2394e-05 - val_loss: 7.1891e-06\n"
          ]
        },
        {
          "output_type": "execute_result",
          "data": {
            "text/plain": [
              "<keras.callbacks.History at 0x7f494cab0e10>"
            ]
          },
          "metadata": {},
          "execution_count": 185
        }
      ],
      "source": [
        "model.fit_generator(generator,epochs=20,\n",
        "                   validation_data=validation_generator,\n",
        "                   callbacks=[early_stop])"
      ]
    },
    {
      "cell_type": "code",
      "execution_count": 186,
      "metadata": {
        "id": "ako2xAmU-LiJ"
      },
      "outputs": [],
      "source": [
        "\n",
        "#LSTM Model Predictions\n",
        "test_predictions = []\n",
        "\n",
        "first_eval_batch = scaled_train[-length:]\n",
        "current_batch = first_eval_batch.reshape((1, length, n_features))\n",
        "\n",
        "for i in range(len(test)):\n",
        "    \n",
        "    # get prediction 1 time stamp ahead ([0] is for grabbing just the number instead of [array])\n",
        "    current_pred = model.predict(current_batch)[0]\n",
        "    \n",
        "    # store prediction\n",
        "    test_predictions.append(current_pred) \n",
        "    \n",
        "    # update batch to now include prediction and drop first value\n",
        "    current_batch = np.append(current_batch[:,1:,:],[[current_pred]],axis=1)"
      ]
    },
    {
      "cell_type": "code",
      "execution_count": 187,
      "metadata": {
        "id": "y5-A8KnG-LiK",
        "outputId": "5a0dd75b-2f35-4c1e-8e3c-2db03d31903c",
        "colab": {
          "base_uri": "https://localhost:8080/",
          "height": 625
        }
      },
      "outputs": [
        {
          "output_type": "stream",
          "name": "stderr",
          "text": [
            "/usr/local/lib/python3.7/dist-packages/ipykernel_launcher.py:2: SettingWithCopyWarning: \n",
            "A value is trying to be set on a copy of a slice from a DataFrame.\n",
            "Try using .loc[row_indexer,col_indexer] = value instead\n",
            "\n",
            "See the caveats in the documentation: https://pandas.pydata.org/pandas-docs/stable/user_guide/indexing.html#returning-a-view-versus-a-copy\n",
            "  \n"
          ]
        },
        {
          "output_type": "execute_result",
          "data": {
            "text/plain": [
              "<matplotlib.axes._subplots.AxesSubplot at 0x7f49482cf250>"
            ]
          },
          "metadata": {},
          "execution_count": 187
        },
        {
          "output_type": "display_data",
          "data": {
            "text/plain": [
              "<Figure size 864x576 with 1 Axes>"
            ],
            "image/png": "[encoded data removed]"
          },
          "metadata": {
            "needs_background": "light"
          }
        }
      ],
      "source": [
        "true_predictions = scaler.inverse_transform(test_predictions)\n",
        "test['LSTM Predictions'] = true_predictions\n",
        "test.plot(figsize=(12,8))"
      ]
    },
    {
      "cell_type": "markdown",
      "metadata": {
        "id": "aY2YCe3z-LiK"
      },
      "source": [
        "# Forecasting"
      ]
    },
    {
      "cell_type": "code",
      "execution_count": 188,
      "metadata": {
        "id": "JgluNY07-LiL"
      },
      "outputs": [],
      "source": [
        "#full dataset used here\n",
        "#Scaling and Normalizing on full dataset\n",
        "full_scaler = MinMaxScaler()\n",
        "scaled_full_data = full_scaler.fit_transform(df)"
      ]
    },
    {
      "cell_type": "code",
      "execution_count": 189,
      "metadata": {
        "id": "1MbZBw4n-LiM"
      },
      "outputs": [],
      "source": [
        "length = 50 # Length of the output sequences (in number of timesteps)\n",
        "generator = TimeseriesGenerator(scaled_full_data, scaled_full_data, length=length, batch_size=1)"
      ]
    },
    {
      "cell_type": "code",
      "execution_count": 190,
      "metadata": {
        "id": "5Wt_8qXI-LiN",
        "outputId": "260d7277-1c7e-4e8e-8eca-005c2af8998b",
        "colab": {
          "base_uri": "https://localhost:8080/"
        }
      },
      "outputs": [
        {
          "output_type": "stream",
          "name": "stdout",
          "text": [
            "Epoch 1/6\n"
          ]
        },
        {
          "output_type": "stream",
          "name": "stderr",
          "text": [
            "/usr/local/lib/python3.7/dist-packages/ipykernel_launcher.py:7: UserWarning: `Model.fit_generator` is deprecated and will be removed in a future version. Please use `Model.fit`, which supports generators.\n",
            "  import sys\n"
          ]
        },
        {
          "output_type": "stream",
          "name": "stdout",
          "text": [
            "451/451 [==============================] - 11s 21ms/step - loss: 0.0146\n",
            "Epoch 2/6\n",
            "451/451 [==============================] - 9s 20ms/step - loss: 1.4070e-04\n",
            "Epoch 3/6\n",
            "451/451 [==============================] - 9s 20ms/step - loss: 1.0488e-04\n",
            "Epoch 4/6\n",
            "451/451 [==============================] - 9s 19ms/step - loss: 2.4406e-04\n",
            "Epoch 5/6\n",
            "451/451 [==============================] - 9s 20ms/step - loss: 1.6211e-04\n",
            "Epoch 6/6\n",
            "451/451 [==============================] - 9s 20ms/step - loss: 9.3794e-05\n"
          ]
        },
        {
          "output_type": "execute_result",
          "data": {
            "text/plain": [
              "<keras.callbacks.History at 0x7f494817c290>"
            ]
          },
          "metadata": {},
          "execution_count": 190
        }
      ],
      "source": [
        "\n",
        "#Model Building for LSTM\n",
        "model = Sequential()\n",
        "model.add(LSTM(50, input_shape=(length, n_features)))\n",
        "model.add(Dense(1))\n",
        "model.compile(optimizer='adam', loss='mse')\n",
        "model.fit_generator(generator,epochs=6)"
      ]
    },
    {
      "cell_type": "code",
      "execution_count": 191,
      "metadata": {
        "id": "gmUtL26A-LiN"
      },
      "outputs": [],
      "source": [
        "forecast = []\n",
        "\n",
        "first_eval_batch = scaled_full_data[-length:]\n",
        "current_batch = first_eval_batch.reshape((1, length, n_features))\n",
        "\n",
        "for i in range(len(test)):\n",
        "    \n",
        "    # get prediction from model for one time step ahead\n",
        "    current_pred = model.predict(current_batch)[0]\n",
        "    \n",
        "    # store prediction\n",
        "    forecast.append(current_pred) \n",
        "    \n",
        "    # update batch to now include prediction and drop first value\n",
        "    current_batch = np.append(current_batch[:,1:,:],[[current_pred]],axis=1)"
      ]
    },
    {
      "cell_type": "code",
      "execution_count": 192,
      "metadata": {
        "id": "SmJ82JF3-LiO"
      },
      "outputs": [],
      "source": [
        "forecast = scaler.inverse_transform(forecast)"
      ]
    },
    {
      "cell_type": "code",
      "execution_count": 193,
      "metadata": {
        "id": "fzoOWEso-LiP",
        "colab": {
          "base_uri": "https://localhost:8080/",
          "height": 424
        },
        "outputId": "f3b706a3-239c-4bf8-e71f-82439a5bfb1b"
      },
      "outputs": [
        {
          "output_type": "execute_result",
          "data": {
            "text/plain": [
              "          Sine\n",
              "0.0   0.000000\n",
              "0.1   0.099833\n",
              "0.2   0.198669\n",
              "0.3   0.295520\n",
              "0.4   0.389418\n",
              "...        ...\n",
              "49.6 -0.617439\n",
              "49.7 -0.535823\n",
              "49.8 -0.448854\n",
              "49.9 -0.357400\n",
              "50.0 -0.262375\n",
              "\n",
              "[501 rows x 1 columns]"
            ],
            "text/html": [
              "\n",
              "  <div id=\"df-38e33737-6281-4037-92e1-5cdbc4ef13fc\">\n",
              "    <div class=\"colab-df-container\">\n",
              "      <div>\n",
              "<style scoped>\n",
              "    .dataframe tbody tr th:only-of-type {\n",
              "        vertical-align: middle;\n",
              "    }\n",
              "\n",
              "    .dataframe tbody tr th {\n",
              "        vertical-align: top;\n",
              "    }\n",
              "\n",
              "    .dataframe thead th {\n",
              "        text-align: right;\n",
              "    }\n",
              "</style>\n",
              "<table border=\"1\" class=\"dataframe\">\n",
              "  <thead>\n",
              "    <tr style=\"text-align: right;\">\n",
              "      <th></th>\n",
              "      <th>Sine</th>\n",
              "    </tr>\n",
              "  </thead>\n",
              "  <tbody>\n",
              "    <tr>\n",
              "      <th>0.0</th>\n",
              "      <td>0.000000</td>\n",
              "    </tr>\n",
              "    <tr>\n",
              "      <th>0.1</th>\n",
              "      <td>0.099833</td>\n",
              "    </tr>\n",
              "    <tr>\n",
              "      <th>0.2</th>\n",
              "      <td>0.198669</td>\n",
              "    </tr>\n",
              "    <tr>\n",
              "      <th>0.3</th>\n",
              "      <td>0.295520</td>\n",
              "    </tr>\n",
              "    <tr>\n",
              "      <th>0.4</th>\n",
              "      <td>0.389418</td>\n",
              "    </tr>\n",
              "    <tr>\n",
              "      <th>...</th>\n",
              "      <td>...</td>\n",
              "    </tr>\n",
              "    <tr>\n",
              "      <th>49.6</th>\n",
              "      <td>-0.617439</td>\n",
              "    </tr>\n",
              "    <tr>\n",
              "      <th>49.7</th>\n",
              "      <td>-0.535823</td>\n",
              "    </tr>\n",
              "    <tr>\n",
              "      <th>49.8</th>\n",
              "      <td>-0.448854</td>\n",
              "    </tr>\n",
              "    <tr>\n",
              "      <th>49.9</th>\n",
              "      <td>-0.357400</td>\n",
              "    </tr>\n",
              "    <tr>\n",
              "      <th>50.0</th>\n",
              "      <td>-0.262375</td>\n",
              "    </tr>\n",
              "  </tbody>\n",
              "</table>\n",
              "<p>501 rows × 1 columns</p>\n",
              "</div>\n",
              "      <button class=\"colab-df-convert\" onclick=\"convertToInteractive('df-38e33737-6281-4037-92e1-5cdbc4ef13fc')\"\n",
              "              title=\"Convert this dataframe to an interactive table.\"\n",
              "              style=\"display:none;\">\n",
              "        \n",
              "  <svg xmlns=\"http://www.w3.org/2000/svg\" height=\"24px\"viewBox=\"0 0 24 24\"\n",
              "       width=\"24px\">\n",
              "    <path d=\"M0 0h24v24H0V0z\" fill=\"none\"/>\n",
              "    <path d=\"M18.56 5.44l.94 2.06.94-2.06 2.06-.94-2.06-.94-.94-2.06-.94 2.06-2.06.94zm-11 1L8.5 8.5l.94-2.06 2.06-.94-2.06-.94L8.5 2.5l-.94 2.06-2.06.94zm10 10l.94 2.06.94-2.06 2.06-.94-2.06-.94-.94-2.06-.94 2.06-2.06.94z\"/><path d=\"M17.41 7.96l-1.37-1.37c-.4-.4-.92-.59-1.43-.59-.52 0-1.04.2-1.43.59L10.3 9.45l-7.72 7.72c-.78.78-.78 2.05 0 2.83L4 21.41c.39.39.9.59 1.41.59.51 0 1.02-.2 1.41-.59l7.78-7.78 2.81-2.81c.8-.78.8-2.07 0-2.86zM5.41 20L4 18.59l7.72-7.72 1.47 1.35L5.41 20z\"/>\n",
              "  </svg>\n",
              "      </button>\n",
              "      \n",
              "  <style>\n",
              "    .colab-df-container {\n",
              "      display:flex;\n",
              "      flex-wrap:wrap;\n",
              "      gap: 12px;\n",
              "    }\n",
              "\n",
              "    .colab-df-convert {\n",
              "      background-color: #E8F0FE;\n",
              "      border: none;\n",
              "      border-radius: 50%;\n",
              "      cursor: pointer;\n",
              "      display: none;\n",
              "      fill: #1967D2;\n",
              "      height: 32px;\n",
              "      padding: 0 0 0 0;\n",
              "      width: 32px;\n",
              "    }\n",
              "\n",
              "    .colab-df-convert:hover {\n",
              "      background-color: #E2EBFA;\n",
              "      box-shadow: 0px 1px 2px rgba(60, 64, 67, 0.3), 0px 1px 3px 1px rgba(60, 64, 67, 0.15);\n",
              "      fill: #174EA6;\n",
              "    }\n",
              "\n",
              "    [theme=dark] .colab-df-convert {\n",
              "      background-color: #3B4455;\n",
              "      fill: #D2E3FC;\n",
              "    }\n",
              "\n",
              "    [theme=dark] .colab-df-convert:hover {\n",
              "      background-color: #434B5C;\n",
              "      box-shadow: 0px 1px 3px 1px rgba(0, 0, 0, 0.15);\n",
              "      filter: drop-shadow(0px 1px 2px rgba(0, 0, 0, 0.3));\n",
              "      fill: #FFFFFF;\n",
              "    }\n",
              "  </style>\n",
              "\n",
              "      <script>\n",
              "        const buttonEl =\n",
              "          document.querySelector('#df-38e33737-6281-4037-92e1-5cdbc4ef13fc button.colab-df-convert');\n",
              "        buttonEl.style.display =\n",
              "          google.colab.kernel.accessAllowed ? 'block' : 'none';\n",
              "\n",
              "        async function convertToInteractive(key) {\n",
              "          const element = document.querySelector('#df-38e33737-6281-4037-92e1-5cdbc4ef13fc');\n",
              "          const dataTable =\n",
              "            await google.colab.kernel.invokeFunction('convertToInteractive',\n",
              "                                                     [key], {});\n",
              "          if (!dataTable) return;\n",
              "\n",
              "          const docLinkHtml = 'Like what you see? Visit the ' +\n",
              "            '<a target=\"_blank\" href=https://colab.research.google.com/notebooks/data_table.ipynb>data table notebook</a>'\n",
              "            + ' to learn more about interactive tables.';\n",
              "          element.innerHTML = '';\n",
              "          dataTable['output_type'] = 'display_data';\n",
              "          await google.colab.output.renderOutput(dataTable, element);\n",
              "          const docLink = document.createElement('div');\n",
              "          docLink.innerHTML = docLinkHtml;\n",
              "          element.appendChild(docLink);\n",
              "        }\n",
              "      </script>\n",
              "    </div>\n",
              "  </div>\n",
              "  "
            ]
          },
          "metadata": {},
          "execution_count": 193
        }
      ],
      "source": [
        "# forecast\n",
        "df"
      ]
    },
    {
      "cell_type": "code",
      "execution_count": 194,
      "metadata": {
        "id": "icFFLur1-LiR",
        "outputId": "d58347c6-90a6-4215-dd36-7b6987488b6d",
        "colab": {
          "base_uri": "https://localhost:8080/"
        }
      },
      "outputs": [
        {
          "output_type": "execute_result",
          "data": {
            "text/plain": [
              "50"
            ]
          },
          "metadata": {},
          "execution_count": 194
        }
      ],
      "source": [
        "len(forecast)"
      ]
    },
    {
      "cell_type": "code",
      "execution_count": 195,
      "metadata": {
        "id": "fLrTCEk4-LiR",
        "outputId": "70a440a7-b912-4e27-a180-cdf603a06949",
        "colab": {
          "base_uri": "https://localhost:8080/"
        }
      },
      "outputs": [
        {
          "output_type": "execute_result",
          "data": {
            "text/plain": [
              "5.0"
            ]
          },
          "metadata": {},
          "execution_count": 195
        }
      ],
      "source": [
        "50*0.1#since sampling period is 0.1s (500 samples for 50s))"
      ]
    },
    {
      "cell_type": "code",
      "execution_count": 196,
      "metadata": {
        "id": "tMVigUGQ-LiS"
      },
      "outputs": [],
      "source": [
        "forecast_index = np.arange(50.1,55.1,step=0.1)"
      ]
    },
    {
      "cell_type": "code",
      "execution_count": 197,
      "metadata": {
        "id": "Rj3_o2mt-LiT",
        "outputId": "d47d5bdd-045c-42f4-9ab3-2c905d67d966",
        "colab": {
          "base_uri": "https://localhost:8080/",
          "height": 282
        }
      },
      "outputs": [
        {
          "output_type": "execute_result",
          "data": {
            "text/plain": [
              "[<matplotlib.lines.Line2D at 0x7f4944b65e50>]"
            ]
          },
          "metadata": {},
          "execution_count": 197
        },
        {
          "output_type": "display_data",
          "data": {
            "text/plain": [
              "<Figure size 432x288 with 1 Axes>"
            ],
            "image/png": "[encoded data removed]"
          },
          "metadata": {
            "needs_background": "light"
          }
        }
      ],
      "source": [
        "plt.plot(df.index,df['Sine'])\n",
        "plt.plot(forecast_index,forecast)\n",
        "#prediction from LSTM model matches the overall trend well"
      ]
    },
    {
      "cell_type": "code",
      "execution_count": 198,
      "metadata": {
        "id": "9bF04Lzb-LiT",
        "outputId": "ba447c94-b166-45f0-9693-59bbf29385ac",
        "colab": {
          "base_uri": "https://localhost:8080/"
        }
      },
      "outputs": [
        {
          "output_type": "execute_result",
          "data": {
            "text/plain": [
              "50"
            ]
          },
          "metadata": {},
          "execution_count": 198
        }
      ],
      "source": [
        "len(forecast_index)"
      ]
    }
  ],
  "metadata": {
    "kernelspec": {
      "display_name": "Python 3",
      "language": "python",
      "name": "python3"
    },
    "language_info": {
      "codemirror_mode": {
        "name": "ipython",
        "version": 3
      },
      "file_extension": ".py",
      "mimetype": "text/x-python",
      "name": "python",
      "nbconvert_exporter": "python",
      "pygments_lexer": "ipython3",
      "version": "3.7.5"
    },
    "colab": {
      "name": "Simple RNN and LSTM for simple sine wave generation.ipynb",
      "provenance": [],
      "collapsed_sections": [],
      "include_colab_link": true
    }
  },
  "nbformat": 4,
  "nbformat_minor": 0
}